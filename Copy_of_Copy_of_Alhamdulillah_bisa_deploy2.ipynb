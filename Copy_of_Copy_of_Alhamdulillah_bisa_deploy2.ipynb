{
  "cells": [
    {
      "cell_type": "markdown",
      "metadata": {
        "id": "MM6VO_cpfEPi"
      },
      "source": [
        "IMPORT LIBRARY"
      ]
    },
    {
      "cell_type": "markdown",
      "source": [
        "SEBELUM DI RUN, upload file books_price.csv dan rating_scale.csv. Setiap ganti user, cell, 1, 2, 3 di run ulang dulu!"
      ],
      "metadata": {
        "id": "jvvwwu32gMvq"
      }
    },
    {
      "cell_type": "code",
      "execution_count": 46,
      "metadata": {
        "colab": {
          "base_uri": "https://localhost:8080/"
        },
        "id": "bwdWVMqKnDr0",
        "outputId": "cce0ef61-f5de-481b-e807-697fd814b56a"
      },
      "outputs": [
        {
          "output_type": "stream",
          "name": "stdout",
          "text": [
            "Looking in indexes: https://pypi.org/simple, https://us-python.pkg.dev/colab-wheels/public/simple/\n",
            "Requirement already satisfied: kaggle in /usr/local/lib/python3.7/dist-packages (1.5.12)\n",
            "Requirement already satisfied: python-slugify in /usr/local/lib/python3.7/dist-packages (from kaggle) (6.1.2)\n",
            "Requirement already satisfied: python-dateutil in /usr/local/lib/python3.7/dist-packages (from kaggle) (2.8.2)\n",
            "Requirement already satisfied: six>=1.10 in /usr/local/lib/python3.7/dist-packages (from kaggle) (1.15.0)\n",
            "Requirement already satisfied: tqdm in /usr/local/lib/python3.7/dist-packages (from kaggle) (4.64.0)\n",
            "Requirement already satisfied: certifi in /usr/local/lib/python3.7/dist-packages (from kaggle) (2022.5.18.1)\n",
            "Requirement already satisfied: requests in /usr/local/lib/python3.7/dist-packages (from kaggle) (2.23.0)\n",
            "Requirement already satisfied: urllib3 in /usr/local/lib/python3.7/dist-packages (from kaggle) (1.24.3)\n",
            "Requirement already satisfied: text-unidecode>=1.3 in /usr/local/lib/python3.7/dist-packages (from python-slugify->kaggle) (1.3)\n",
            "Requirement already satisfied: chardet<4,>=3.0.2 in /usr/local/lib/python3.7/dist-packages (from requests->kaggle) (3.0.4)\n",
            "Requirement already satisfied: idna<3,>=2.5 in /usr/local/lib/python3.7/dist-packages (from requests->kaggle) (2.10)\n"
          ]
        }
      ],
      "source": [
        "! pip install kaggle\n",
        "import pandas as pd\n",
        "import numpy as np \n",
        "import matplotlib.pyplot as plt\n",
        "import os\n",
        "import tensorflow as tf\n",
        "from sklearn.model_selection import train_test_split"
      ]
    },
    {
      "cell_type": "code",
      "execution_count": 47,
      "metadata": {
        "id": "6bkAbme-m3_I"
      },
      "outputs": [],
      "source": [
        "#NGELOAD DATASET\n",
        "dataset = pd.read_csv(\"/content/rating_scale.csv\", sep=\",\")\n",
        "train, test = train_test_split(dataset, test_size=0.2, random_state=42)\n",
        "n_users = len(dataset.user_id.unique())\n",
        "n_books = len(dataset.book_id.unique())"
      ]
    },
    {
      "cell_type": "code",
      "execution_count": 48,
      "metadata": {
        "id": "iVxugWw4nAa9"
      },
      "outputs": [],
      "source": [
        "#model\n",
        "from tensorflow.keras.layers import Input, Embedding, Flatten, Dot, Dense, Concatenate\n",
        "from tensorflow.keras.models import Model\n",
        "\n",
        "book_input = Input(shape=[1], name=\"Book-Input\")\n",
        "book_embedding = Embedding(n_books+1, 5, name=\"Book-Embedding\")(book_input)\n",
        "book_vec = Flatten(name=\"Flatten-Books\")(book_embedding)\n",
        "\n",
        "user_input = Input(shape=[1], name=\"User-Input\")\n",
        "user_embedding = Embedding(n_users+1, 5, name=\"User-Embedding\")(user_input)\n",
        "user_vec = Flatten(name=\"Flatten-Users\")(user_embedding)\n",
        "\n",
        "conc = Concatenate()([book_vec, user_vec])\n",
        "\n",
        "fc1 = Dense(128, activation='relu')(conc)\n",
        "fc2 = Dense(64, activation='relu')(fc1)\n",
        "fc3 = Dense(32, activation='relu')(fc2)\n",
        "fc4 = Dense(16, activation='relu')(fc3)\n",
        "out = Dense(1)(fc4)\n",
        "\n",
        "model2_8juni10 = Model([user_input, book_input], out)\n",
        "model2_8juni10.compile('adam', 'mean_squared_error')"
      ]
    },
    {
      "cell_type": "code",
      "source": [
        "#Training model\n",
        "history = model2_8juni10.fit([train.user_id, train.book_id], train.scale_rating, epochs=10, batch_size=16, verbose=1)\n",
        "model2_8juni10.save('regression_model2_8juni10.h5')"
      ],
      "metadata": {
        "colab": {
          "base_uri": "https://localhost:8080/"
        },
        "id": "dFxeSdp7_L5-",
        "outputId": "ecb7a67e-db96-4730-8a58-d9e9ba4b329b"
      },
      "execution_count": 11,
      "outputs": [
        {
          "output_type": "stream",
          "name": "stdout",
          "text": [
            "Epoch 1/10\n",
            "49088/49088 [==============================] - 242s 5ms/step - loss: 0.0316\n",
            "Epoch 2/10\n",
            "49088/49088 [==============================] - 268s 5ms/step - loss: 0.0276\n",
            "Epoch 3/10\n",
            "49088/49088 [==============================] - 268s 5ms/step - loss: 0.0262\n",
            "Epoch 4/10\n",
            "49088/49088 [==============================] - 241s 5ms/step - loss: 0.0250\n",
            "Epoch 5/10\n",
            "49088/49088 [==============================] - 241s 5ms/step - loss: 0.0239\n",
            "Epoch 6/10\n",
            "49088/49088 [==============================] - 249s 5ms/step - loss: 0.0230\n",
            "Epoch 7/10\n",
            "49088/49088 [==============================] - 261s 5ms/step - loss: 0.0224\n",
            "Epoch 8/10\n",
            "49088/49088 [==============================] - 239s 5ms/step - loss: 0.0218\n",
            "Epoch 9/10\n",
            "49088/49088 [==============================] - 239s 5ms/step - loss: 0.0214\n",
            "Epoch 10/10\n",
            "49088/49088 [==============================] - 232s 5ms/step - loss: 0.0210\n"
          ]
        }
      ]
    },
    {
      "cell_type": "code",
      "source": [
        "#NGELIAT DAFTAR BUKU\n",
        "books = pd.read_csv('books_price.csv')\n",
        "books.head(20)\n"
      ],
      "metadata": {
        "colab": {
          "base_uri": "https://localhost:8080/",
          "height": 1000
        },
        "id": "nVFpzT_t38F7",
        "outputId": "513bb390-248f-4215-b018-244f313f1005"
      },
      "execution_count": 40,
      "outputs": [
        {
          "output_type": "execute_result",
          "data": {
            "text/plain": [
              "    id   book_id  best_book_id   work_id  books_count        isbn  \\\n",
              "0    1   2767052       2767052   2792775          272   439023483   \n",
              "1    2         3             3   4640799          491   439554934   \n",
              "2    3     41865         41865   3212258          226   316015849   \n",
              "3    4      2657          2657   3275794          487    61120081   \n",
              "4    5      4671          4671    245494         1356   743273567   \n",
              "5    6  11870085      11870085  16827462          226   525478817   \n",
              "6    7      5907          5907   1540236          969   618260307   \n",
              "7    8      5107          5107   3036731          360   316769177   \n",
              "8    9       960           960   3338963          311  1416524797   \n",
              "9   10      1885          1885   3060926         3455   679783261   \n",
              "10  11     77203         77203   3295919          283  1594480001   \n",
              "11  12  13335037      13335037  13155899          210    62024035   \n",
              "12  13      5470          5470    153313          995   451524934   \n",
              "13  14      7613          7613   2207778          896   452284244   \n",
              "14  15     48855         48855   3532896          710   553296981   \n",
              "15  16   2429135       2429135   1708725          274   307269752   \n",
              "16  17   6148028       6148028   6171458          201   439023491   \n",
              "17  18         5             5   2402163          376  043965548X   \n",
              "18  19        34            34   3204327          566   618346252   \n",
              "19  20   7260188       7260188   8812783          239   439023513   \n",
              "\n",
              "          isbn13                                            authors  \\\n",
              "0   9.780439e+12                                    Suzanne Collins   \n",
              "1   9.780440e+12                        J.K. Rowling, Mary GrandPré   \n",
              "2   9.780316e+12                                    Stephenie Meyer   \n",
              "3   9.780061e+12                                         Harper Lee   \n",
              "4   9.780743e+12                                F. Scott Fitzgerald   \n",
              "5   9.780525e+12                                         John Green   \n",
              "6   9.780618e+12                                     J.R.R. Tolkien   \n",
              "7   9.780317e+12                                      J.D. Salinger   \n",
              "8   9.781417e+12                                          Dan Brown   \n",
              "9   9.780680e+12                                        Jane Austen   \n",
              "10  9.781594e+12                                    Khaled Hosseini   \n",
              "11  9.780062e+12                                      Veronica Roth   \n",
              "12  9.780452e+12            George Orwell, Erich Fromm, Celâl Üster   \n",
              "13  9.780452e+12                                      George Orwell   \n",
              "14  9.780553e+12  Anne Frank, Eleanor Roosevelt, B.M. Mooyaart-D...   \n",
              "15  9.780307e+12                         Stieg Larsson, Reg Keeland   \n",
              "16  9.780439e+12                                    Suzanne Collins   \n",
              "17  9.780440e+12            J.K. Rowling, Mary GrandPré, Rufus Beck   \n",
              "18  9.780618e+12                                     J.R.R. Tolkien   \n",
              "19  9.780439e+12                                    Suzanne Collins   \n",
              "\n",
              "    original_publication_year  \\\n",
              "0                      2008.0   \n",
              "1                      1997.0   \n",
              "2                      2005.0   \n",
              "3                      1960.0   \n",
              "4                      1925.0   \n",
              "5                      2012.0   \n",
              "6                      1937.0   \n",
              "7                      1951.0   \n",
              "8                      2000.0   \n",
              "9                      1813.0   \n",
              "10                     2003.0   \n",
              "11                     2011.0   \n",
              "12                     1949.0   \n",
              "13                     1945.0   \n",
              "14                     1947.0   \n",
              "15                     2005.0   \n",
              "16                     2009.0   \n",
              "17                     1999.0   \n",
              "18                     1954.0   \n",
              "19                     2010.0   \n",
              "\n",
              "                                       original_title  ... work_ratings_count  \\\n",
              "0                                    The Hunger Games  ...            4942365   \n",
              "1            Harry Potter and the Philosopher's Stone  ...            4800065   \n",
              "2                                            Twilight  ...            3916824   \n",
              "3                               To Kill a Mockingbird  ...            3340896   \n",
              "4                                    The Great Gatsby  ...            2773745   \n",
              "5                              The Fault in Our Stars  ...            2478609   \n",
              "6                  The Hobbit or There and Back Again  ...            2196809   \n",
              "7                              The Catcher in the Rye  ...            2120637   \n",
              "8                                    Angels & Demons   ...            2078754   \n",
              "9                                 Pride and Prejudice  ...            2191465   \n",
              "10                                   The Kite Runner   ...            1878095   \n",
              "11                                          Divergent  ...            2216814   \n",
              "12                               Nineteen Eighty-Four  ...            2053394   \n",
              "13                         Animal Farm: A Fairy Story  ...            1982987   \n",
              "14  Het Achterhuis: Dagboekbrieven 14 juni 1942 - ...  ...            2024493   \n",
              "15                              Män som hatar kvinnor  ...            1929834   \n",
              "16                                      Catching Fire  ...            1988079   \n",
              "17           Harry Potter and the Prisoner of Azkaban  ...            1969375   \n",
              "18                         The Fellowship of the Ring  ...            1832541   \n",
              "19                                         Mockingjay  ...            1870748   \n",
              "\n",
              "   work_text_reviews_count  ratings_1  ratings_2  ratings_3  ratings_4  \\\n",
              "0                   155254      66715     127936     560092    1481305   \n",
              "1                    75867      75504     101676     455024    1156318   \n",
              "2                    95009     456191     436802     793319     875073   \n",
              "3                    72586      60427     117415     446835    1001952   \n",
              "4                    51992      86236     197621     606158     936012   \n",
              "5                   140739      47994      92723     327550     698471   \n",
              "6                    37653      46023      76784     288649     665635   \n",
              "7                    44920     109383     185520     455042     661516   \n",
              "8                    25112      77841     145740     458429     716569   \n",
              "9                    49152      54700      86485     284852     609755   \n",
              "10                   59730      34288      59980     226062     628174   \n",
              "11                  101023      36315      82870     310297     673028   \n",
              "12                   45518      41845      86425     324874     692021   \n",
              "13                   35472      66854     135147     433432     698642   \n",
              "14                   20825      45225      91270     355756     656870   \n",
              "15                   62543      54835      86051     285413     667485   \n",
              "16                   88538      10492      48030     262010     687238   \n",
              "17                   36099       6716      20413     166129     509447   \n",
              "18                   15333      38031      55862     202332     493922   \n",
              "19                   96274      30144     110498     373060     618271   \n",
              "\n",
              "    ratings_5                                          image_url  \\\n",
              "0     2706317  https://images.gr-assets.com/books/1447303603m...   \n",
              "1     3011543  https://images.gr-assets.com/books/1474154022m...   \n",
              "2     1355439  https://images.gr-assets.com/books/1361039443m...   \n",
              "3     1714267  https://images.gr-assets.com/books/1361975680m...   \n",
              "4      947718  https://images.gr-assets.com/books/1490528560m...   \n",
              "5     1311871  https://images.gr-assets.com/books/1360206420m...   \n",
              "6     1119718  https://images.gr-assets.com/books/1372847500m...   \n",
              "7      709176  https://images.gr-assets.com/books/1398034300m...   \n",
              "8      680175  https://images.gr-assets.com/books/1303390735m...   \n",
              "9     1155673  https://images.gr-assets.com/books/1320399351m...   \n",
              "10     929591  https://images.gr-assets.com/books/1484565687m...   \n",
              "11    1114304  https://images.gr-assets.com/books/1328559506m...   \n",
              "12     908229  https://images.gr-assets.com/books/1348990566m...   \n",
              "13     648912  https://images.gr-assets.com/books/1424037542m...   \n",
              "14     875372  https://images.gr-assets.com/books/1358276407m...   \n",
              "15     836050  https://images.gr-assets.com/books/1327868566m...   \n",
              "16     980309  https://images.gr-assets.com/books/1358273780m...   \n",
              "17    1266670  https://images.gr-assets.com/books/1499277281m...   \n",
              "18    1042394  https://images.gr-assets.com/books/1298411339m...   \n",
              "19     738775  https://images.gr-assets.com/books/1358275419m...   \n",
              "\n",
              "                                      small_image_url   price  \n",
              "0   https://images.gr-assets.com/books/1447303603s...  127621  \n",
              "1   https://images.gr-assets.com/books/1474154022s...  133439  \n",
              "2   https://images.gr-assets.com/books/1361039443s...  179127  \n",
              "3   https://images.gr-assets.com/books/1361975680s...  103978  \n",
              "4   https://images.gr-assets.com/books/1490528560s...  140962  \n",
              "5   https://images.gr-assets.com/books/1360206420s...  186245  \n",
              "6   https://images.gr-assets.com/books/1372847500s...   87635  \n",
              "7   https://images.gr-assets.com/books/1398034300s...  121966  \n",
              "8   https://images.gr-assets.com/books/1303390735s...  175429  \n",
              "9   https://images.gr-assets.com/books/1320399351s...  137244  \n",
              "10  https://images.gr-assets.com/books/1484565687s...  163425  \n",
              "11  https://images.gr-assets.com/books/1328559506s...  149934  \n",
              "12  https://images.gr-assets.com/books/1348990566s...   84939  \n",
              "13  https://images.gr-assets.com/books/1424037542s...   85733  \n",
              "14  https://images.gr-assets.com/books/1358276407s...  165727  \n",
              "15  https://images.gr-assets.com/books/1327868566s...   93787  \n",
              "16  https://images.gr-assets.com/books/1358273780s...  100518  \n",
              "17  https://images.gr-assets.com/books/1499277281s...  109006  \n",
              "18  https://images.gr-assets.com/books/1298411339s...   42144  \n",
              "19  https://images.gr-assets.com/books/1358275419s...   78525  \n",
              "\n",
              "[20 rows x 24 columns]"
            ],
            "text/html": [
              "\n",
              "  <div id=\"df-1482a6e3-2c07-4c55-b7cc-161754d13510\">\n",
              "    <div class=\"colab-df-container\">\n",
              "      <div>\n",
              "<style scoped>\n",
              "    .dataframe tbody tr th:only-of-type {\n",
              "        vertical-align: middle;\n",
              "    }\n",
              "\n",
              "    .dataframe tbody tr th {\n",
              "        vertical-align: top;\n",
              "    }\n",
              "\n",
              "    .dataframe thead th {\n",
              "        text-align: right;\n",
              "    }\n",
              "</style>\n",
              "<table border=\"1\" class=\"dataframe\">\n",
              "  <thead>\n",
              "    <tr style=\"text-align: right;\">\n",
              "      <th></th>\n",
              "      <th>id</th>\n",
              "      <th>book_id</th>\n",
              "      <th>best_book_id</th>\n",
              "      <th>work_id</th>\n",
              "      <th>books_count</th>\n",
              "      <th>isbn</th>\n",
              "      <th>isbn13</th>\n",
              "      <th>authors</th>\n",
              "      <th>original_publication_year</th>\n",
              "      <th>original_title</th>\n",
              "      <th>...</th>\n",
              "      <th>work_ratings_count</th>\n",
              "      <th>work_text_reviews_count</th>\n",
              "      <th>ratings_1</th>\n",
              "      <th>ratings_2</th>\n",
              "      <th>ratings_3</th>\n",
              "      <th>ratings_4</th>\n",
              "      <th>ratings_5</th>\n",
              "      <th>image_url</th>\n",
              "      <th>small_image_url</th>\n",
              "      <th>price</th>\n",
              "    </tr>\n",
              "  </thead>\n",
              "  <tbody>\n",
              "    <tr>\n",
              "      <th>0</th>\n",
              "      <td>1</td>\n",
              "      <td>2767052</td>\n",
              "      <td>2767052</td>\n",
              "      <td>2792775</td>\n",
              "      <td>272</td>\n",
              "      <td>439023483</td>\n",
              "      <td>9.780439e+12</td>\n",
              "      <td>Suzanne Collins</td>\n",
              "      <td>2008.0</td>\n",
              "      <td>The Hunger Games</td>\n",
              "      <td>...</td>\n",
              "      <td>4942365</td>\n",
              "      <td>155254</td>\n",
              "      <td>66715</td>\n",
              "      <td>127936</td>\n",
              "      <td>560092</td>\n",
              "      <td>1481305</td>\n",
              "      <td>2706317</td>\n",
              "      <td>https://images.gr-assets.com/books/1447303603m...</td>\n",
              "      <td>https://images.gr-assets.com/books/1447303603s...</td>\n",
              "      <td>127621</td>\n",
              "    </tr>\n",
              "    <tr>\n",
              "      <th>1</th>\n",
              "      <td>2</td>\n",
              "      <td>3</td>\n",
              "      <td>3</td>\n",
              "      <td>4640799</td>\n",
              "      <td>491</td>\n",
              "      <td>439554934</td>\n",
              "      <td>9.780440e+12</td>\n",
              "      <td>J.K. Rowling, Mary GrandPré</td>\n",
              "      <td>1997.0</td>\n",
              "      <td>Harry Potter and the Philosopher's Stone</td>\n",
              "      <td>...</td>\n",
              "      <td>4800065</td>\n",
              "      <td>75867</td>\n",
              "      <td>75504</td>\n",
              "      <td>101676</td>\n",
              "      <td>455024</td>\n",
              "      <td>1156318</td>\n",
              "      <td>3011543</td>\n",
              "      <td>https://images.gr-assets.com/books/1474154022m...</td>\n",
              "      <td>https://images.gr-assets.com/books/1474154022s...</td>\n",
              "      <td>133439</td>\n",
              "    </tr>\n",
              "    <tr>\n",
              "      <th>2</th>\n",
              "      <td>3</td>\n",
              "      <td>41865</td>\n",
              "      <td>41865</td>\n",
              "      <td>3212258</td>\n",
              "      <td>226</td>\n",
              "      <td>316015849</td>\n",
              "      <td>9.780316e+12</td>\n",
              "      <td>Stephenie Meyer</td>\n",
              "      <td>2005.0</td>\n",
              "      <td>Twilight</td>\n",
              "      <td>...</td>\n",
              "      <td>3916824</td>\n",
              "      <td>95009</td>\n",
              "      <td>456191</td>\n",
              "      <td>436802</td>\n",
              "      <td>793319</td>\n",
              "      <td>875073</td>\n",
              "      <td>1355439</td>\n",
              "      <td>https://images.gr-assets.com/books/1361039443m...</td>\n",
              "      <td>https://images.gr-assets.com/books/1361039443s...</td>\n",
              "      <td>179127</td>\n",
              "    </tr>\n",
              "    <tr>\n",
              "      <th>3</th>\n",
              "      <td>4</td>\n",
              "      <td>2657</td>\n",
              "      <td>2657</td>\n",
              "      <td>3275794</td>\n",
              "      <td>487</td>\n",
              "      <td>61120081</td>\n",
              "      <td>9.780061e+12</td>\n",
              "      <td>Harper Lee</td>\n",
              "      <td>1960.0</td>\n",
              "      <td>To Kill a Mockingbird</td>\n",
              "      <td>...</td>\n",
              "      <td>3340896</td>\n",
              "      <td>72586</td>\n",
              "      <td>60427</td>\n",
              "      <td>117415</td>\n",
              "      <td>446835</td>\n",
              "      <td>1001952</td>\n",
              "      <td>1714267</td>\n",
              "      <td>https://images.gr-assets.com/books/1361975680m...</td>\n",
              "      <td>https://images.gr-assets.com/books/1361975680s...</td>\n",
              "      <td>103978</td>\n",
              "    </tr>\n",
              "    <tr>\n",
              "      <th>4</th>\n",
              "      <td>5</td>\n",
              "      <td>4671</td>\n",
              "      <td>4671</td>\n",
              "      <td>245494</td>\n",
              "      <td>1356</td>\n",
              "      <td>743273567</td>\n",
              "      <td>9.780743e+12</td>\n",
              "      <td>F. Scott Fitzgerald</td>\n",
              "      <td>1925.0</td>\n",
              "      <td>The Great Gatsby</td>\n",
              "      <td>...</td>\n",
              "      <td>2773745</td>\n",
              "      <td>51992</td>\n",
              "      <td>86236</td>\n",
              "      <td>197621</td>\n",
              "      <td>606158</td>\n",
              "      <td>936012</td>\n",
              "      <td>947718</td>\n",
              "      <td>https://images.gr-assets.com/books/1490528560m...</td>\n",
              "      <td>https://images.gr-assets.com/books/1490528560s...</td>\n",
              "      <td>140962</td>\n",
              "    </tr>\n",
              "    <tr>\n",
              "      <th>5</th>\n",
              "      <td>6</td>\n",
              "      <td>11870085</td>\n",
              "      <td>11870085</td>\n",
              "      <td>16827462</td>\n",
              "      <td>226</td>\n",
              "      <td>525478817</td>\n",
              "      <td>9.780525e+12</td>\n",
              "      <td>John Green</td>\n",
              "      <td>2012.0</td>\n",
              "      <td>The Fault in Our Stars</td>\n",
              "      <td>...</td>\n",
              "      <td>2478609</td>\n",
              "      <td>140739</td>\n",
              "      <td>47994</td>\n",
              "      <td>92723</td>\n",
              "      <td>327550</td>\n",
              "      <td>698471</td>\n",
              "      <td>1311871</td>\n",
              "      <td>https://images.gr-assets.com/books/1360206420m...</td>\n",
              "      <td>https://images.gr-assets.com/books/1360206420s...</td>\n",
              "      <td>186245</td>\n",
              "    </tr>\n",
              "    <tr>\n",
              "      <th>6</th>\n",
              "      <td>7</td>\n",
              "      <td>5907</td>\n",
              "      <td>5907</td>\n",
              "      <td>1540236</td>\n",
              "      <td>969</td>\n",
              "      <td>618260307</td>\n",
              "      <td>9.780618e+12</td>\n",
              "      <td>J.R.R. Tolkien</td>\n",
              "      <td>1937.0</td>\n",
              "      <td>The Hobbit or There and Back Again</td>\n",
              "      <td>...</td>\n",
              "      <td>2196809</td>\n",
              "      <td>37653</td>\n",
              "      <td>46023</td>\n",
              "      <td>76784</td>\n",
              "      <td>288649</td>\n",
              "      <td>665635</td>\n",
              "      <td>1119718</td>\n",
              "      <td>https://images.gr-assets.com/books/1372847500m...</td>\n",
              "      <td>https://images.gr-assets.com/books/1372847500s...</td>\n",
              "      <td>87635</td>\n",
              "    </tr>\n",
              "    <tr>\n",
              "      <th>7</th>\n",
              "      <td>8</td>\n",
              "      <td>5107</td>\n",
              "      <td>5107</td>\n",
              "      <td>3036731</td>\n",
              "      <td>360</td>\n",
              "      <td>316769177</td>\n",
              "      <td>9.780317e+12</td>\n",
              "      <td>J.D. Salinger</td>\n",
              "      <td>1951.0</td>\n",
              "      <td>The Catcher in the Rye</td>\n",
              "      <td>...</td>\n",
              "      <td>2120637</td>\n",
              "      <td>44920</td>\n",
              "      <td>109383</td>\n",
              "      <td>185520</td>\n",
              "      <td>455042</td>\n",
              "      <td>661516</td>\n",
              "      <td>709176</td>\n",
              "      <td>https://images.gr-assets.com/books/1398034300m...</td>\n",
              "      <td>https://images.gr-assets.com/books/1398034300s...</td>\n",
              "      <td>121966</td>\n",
              "    </tr>\n",
              "    <tr>\n",
              "      <th>8</th>\n",
              "      <td>9</td>\n",
              "      <td>960</td>\n",
              "      <td>960</td>\n",
              "      <td>3338963</td>\n",
              "      <td>311</td>\n",
              "      <td>1416524797</td>\n",
              "      <td>9.781417e+12</td>\n",
              "      <td>Dan Brown</td>\n",
              "      <td>2000.0</td>\n",
              "      <td>Angels &amp; Demons</td>\n",
              "      <td>...</td>\n",
              "      <td>2078754</td>\n",
              "      <td>25112</td>\n",
              "      <td>77841</td>\n",
              "      <td>145740</td>\n",
              "      <td>458429</td>\n",
              "      <td>716569</td>\n",
              "      <td>680175</td>\n",
              "      <td>https://images.gr-assets.com/books/1303390735m...</td>\n",
              "      <td>https://images.gr-assets.com/books/1303390735s...</td>\n",
              "      <td>175429</td>\n",
              "    </tr>\n",
              "    <tr>\n",
              "      <th>9</th>\n",
              "      <td>10</td>\n",
              "      <td>1885</td>\n",
              "      <td>1885</td>\n",
              "      <td>3060926</td>\n",
              "      <td>3455</td>\n",
              "      <td>679783261</td>\n",
              "      <td>9.780680e+12</td>\n",
              "      <td>Jane Austen</td>\n",
              "      <td>1813.0</td>\n",
              "      <td>Pride and Prejudice</td>\n",
              "      <td>...</td>\n",
              "      <td>2191465</td>\n",
              "      <td>49152</td>\n",
              "      <td>54700</td>\n",
              "      <td>86485</td>\n",
              "      <td>284852</td>\n",
              "      <td>609755</td>\n",
              "      <td>1155673</td>\n",
              "      <td>https://images.gr-assets.com/books/1320399351m...</td>\n",
              "      <td>https://images.gr-assets.com/books/1320399351s...</td>\n",
              "      <td>137244</td>\n",
              "    </tr>\n",
              "    <tr>\n",
              "      <th>10</th>\n",
              "      <td>11</td>\n",
              "      <td>77203</td>\n",
              "      <td>77203</td>\n",
              "      <td>3295919</td>\n",
              "      <td>283</td>\n",
              "      <td>1594480001</td>\n",
              "      <td>9.781594e+12</td>\n",
              "      <td>Khaled Hosseini</td>\n",
              "      <td>2003.0</td>\n",
              "      <td>The Kite Runner</td>\n",
              "      <td>...</td>\n",
              "      <td>1878095</td>\n",
              "      <td>59730</td>\n",
              "      <td>34288</td>\n",
              "      <td>59980</td>\n",
              "      <td>226062</td>\n",
              "      <td>628174</td>\n",
              "      <td>929591</td>\n",
              "      <td>https://images.gr-assets.com/books/1484565687m...</td>\n",
              "      <td>https://images.gr-assets.com/books/1484565687s...</td>\n",
              "      <td>163425</td>\n",
              "    </tr>\n",
              "    <tr>\n",
              "      <th>11</th>\n",
              "      <td>12</td>\n",
              "      <td>13335037</td>\n",
              "      <td>13335037</td>\n",
              "      <td>13155899</td>\n",
              "      <td>210</td>\n",
              "      <td>62024035</td>\n",
              "      <td>9.780062e+12</td>\n",
              "      <td>Veronica Roth</td>\n",
              "      <td>2011.0</td>\n",
              "      <td>Divergent</td>\n",
              "      <td>...</td>\n",
              "      <td>2216814</td>\n",
              "      <td>101023</td>\n",
              "      <td>36315</td>\n",
              "      <td>82870</td>\n",
              "      <td>310297</td>\n",
              "      <td>673028</td>\n",
              "      <td>1114304</td>\n",
              "      <td>https://images.gr-assets.com/books/1328559506m...</td>\n",
              "      <td>https://images.gr-assets.com/books/1328559506s...</td>\n",
              "      <td>149934</td>\n",
              "    </tr>\n",
              "    <tr>\n",
              "      <th>12</th>\n",
              "      <td>13</td>\n",
              "      <td>5470</td>\n",
              "      <td>5470</td>\n",
              "      <td>153313</td>\n",
              "      <td>995</td>\n",
              "      <td>451524934</td>\n",
              "      <td>9.780452e+12</td>\n",
              "      <td>George Orwell, Erich Fromm, Celâl Üster</td>\n",
              "      <td>1949.0</td>\n",
              "      <td>Nineteen Eighty-Four</td>\n",
              "      <td>...</td>\n",
              "      <td>2053394</td>\n",
              "      <td>45518</td>\n",
              "      <td>41845</td>\n",
              "      <td>86425</td>\n",
              "      <td>324874</td>\n",
              "      <td>692021</td>\n",
              "      <td>908229</td>\n",
              "      <td>https://images.gr-assets.com/books/1348990566m...</td>\n",
              "      <td>https://images.gr-assets.com/books/1348990566s...</td>\n",
              "      <td>84939</td>\n",
              "    </tr>\n",
              "    <tr>\n",
              "      <th>13</th>\n",
              "      <td>14</td>\n",
              "      <td>7613</td>\n",
              "      <td>7613</td>\n",
              "      <td>2207778</td>\n",
              "      <td>896</td>\n",
              "      <td>452284244</td>\n",
              "      <td>9.780452e+12</td>\n",
              "      <td>George Orwell</td>\n",
              "      <td>1945.0</td>\n",
              "      <td>Animal Farm: A Fairy Story</td>\n",
              "      <td>...</td>\n",
              "      <td>1982987</td>\n",
              "      <td>35472</td>\n",
              "      <td>66854</td>\n",
              "      <td>135147</td>\n",
              "      <td>433432</td>\n",
              "      <td>698642</td>\n",
              "      <td>648912</td>\n",
              "      <td>https://images.gr-assets.com/books/1424037542m...</td>\n",
              "      <td>https://images.gr-assets.com/books/1424037542s...</td>\n",
              "      <td>85733</td>\n",
              "    </tr>\n",
              "    <tr>\n",
              "      <th>14</th>\n",
              "      <td>15</td>\n",
              "      <td>48855</td>\n",
              "      <td>48855</td>\n",
              "      <td>3532896</td>\n",
              "      <td>710</td>\n",
              "      <td>553296981</td>\n",
              "      <td>9.780553e+12</td>\n",
              "      <td>Anne Frank, Eleanor Roosevelt, B.M. Mooyaart-D...</td>\n",
              "      <td>1947.0</td>\n",
              "      <td>Het Achterhuis: Dagboekbrieven 14 juni 1942 - ...</td>\n",
              "      <td>...</td>\n",
              "      <td>2024493</td>\n",
              "      <td>20825</td>\n",
              "      <td>45225</td>\n",
              "      <td>91270</td>\n",
              "      <td>355756</td>\n",
              "      <td>656870</td>\n",
              "      <td>875372</td>\n",
              "      <td>https://images.gr-assets.com/books/1358276407m...</td>\n",
              "      <td>https://images.gr-assets.com/books/1358276407s...</td>\n",
              "      <td>165727</td>\n",
              "    </tr>\n",
              "    <tr>\n",
              "      <th>15</th>\n",
              "      <td>16</td>\n",
              "      <td>2429135</td>\n",
              "      <td>2429135</td>\n",
              "      <td>1708725</td>\n",
              "      <td>274</td>\n",
              "      <td>307269752</td>\n",
              "      <td>9.780307e+12</td>\n",
              "      <td>Stieg Larsson, Reg Keeland</td>\n",
              "      <td>2005.0</td>\n",
              "      <td>Män som hatar kvinnor</td>\n",
              "      <td>...</td>\n",
              "      <td>1929834</td>\n",
              "      <td>62543</td>\n",
              "      <td>54835</td>\n",
              "      <td>86051</td>\n",
              "      <td>285413</td>\n",
              "      <td>667485</td>\n",
              "      <td>836050</td>\n",
              "      <td>https://images.gr-assets.com/books/1327868566m...</td>\n",
              "      <td>https://images.gr-assets.com/books/1327868566s...</td>\n",
              "      <td>93787</td>\n",
              "    </tr>\n",
              "    <tr>\n",
              "      <th>16</th>\n",
              "      <td>17</td>\n",
              "      <td>6148028</td>\n",
              "      <td>6148028</td>\n",
              "      <td>6171458</td>\n",
              "      <td>201</td>\n",
              "      <td>439023491</td>\n",
              "      <td>9.780439e+12</td>\n",
              "      <td>Suzanne Collins</td>\n",
              "      <td>2009.0</td>\n",
              "      <td>Catching Fire</td>\n",
              "      <td>...</td>\n",
              "      <td>1988079</td>\n",
              "      <td>88538</td>\n",
              "      <td>10492</td>\n",
              "      <td>48030</td>\n",
              "      <td>262010</td>\n",
              "      <td>687238</td>\n",
              "      <td>980309</td>\n",
              "      <td>https://images.gr-assets.com/books/1358273780m...</td>\n",
              "      <td>https://images.gr-assets.com/books/1358273780s...</td>\n",
              "      <td>100518</td>\n",
              "    </tr>\n",
              "    <tr>\n",
              "      <th>17</th>\n",
              "      <td>18</td>\n",
              "      <td>5</td>\n",
              "      <td>5</td>\n",
              "      <td>2402163</td>\n",
              "      <td>376</td>\n",
              "      <td>043965548X</td>\n",
              "      <td>9.780440e+12</td>\n",
              "      <td>J.K. Rowling, Mary GrandPré, Rufus Beck</td>\n",
              "      <td>1999.0</td>\n",
              "      <td>Harry Potter and the Prisoner of Azkaban</td>\n",
              "      <td>...</td>\n",
              "      <td>1969375</td>\n",
              "      <td>36099</td>\n",
              "      <td>6716</td>\n",
              "      <td>20413</td>\n",
              "      <td>166129</td>\n",
              "      <td>509447</td>\n",
              "      <td>1266670</td>\n",
              "      <td>https://images.gr-assets.com/books/1499277281m...</td>\n",
              "      <td>https://images.gr-assets.com/books/1499277281s...</td>\n",
              "      <td>109006</td>\n",
              "    </tr>\n",
              "    <tr>\n",
              "      <th>18</th>\n",
              "      <td>19</td>\n",
              "      <td>34</td>\n",
              "      <td>34</td>\n",
              "      <td>3204327</td>\n",
              "      <td>566</td>\n",
              "      <td>618346252</td>\n",
              "      <td>9.780618e+12</td>\n",
              "      <td>J.R.R. Tolkien</td>\n",
              "      <td>1954.0</td>\n",
              "      <td>The Fellowship of the Ring</td>\n",
              "      <td>...</td>\n",
              "      <td>1832541</td>\n",
              "      <td>15333</td>\n",
              "      <td>38031</td>\n",
              "      <td>55862</td>\n",
              "      <td>202332</td>\n",
              "      <td>493922</td>\n",
              "      <td>1042394</td>\n",
              "      <td>https://images.gr-assets.com/books/1298411339m...</td>\n",
              "      <td>https://images.gr-assets.com/books/1298411339s...</td>\n",
              "      <td>42144</td>\n",
              "    </tr>\n",
              "    <tr>\n",
              "      <th>19</th>\n",
              "      <td>20</td>\n",
              "      <td>7260188</td>\n",
              "      <td>7260188</td>\n",
              "      <td>8812783</td>\n",
              "      <td>239</td>\n",
              "      <td>439023513</td>\n",
              "      <td>9.780439e+12</td>\n",
              "      <td>Suzanne Collins</td>\n",
              "      <td>2010.0</td>\n",
              "      <td>Mockingjay</td>\n",
              "      <td>...</td>\n",
              "      <td>1870748</td>\n",
              "      <td>96274</td>\n",
              "      <td>30144</td>\n",
              "      <td>110498</td>\n",
              "      <td>373060</td>\n",
              "      <td>618271</td>\n",
              "      <td>738775</td>\n",
              "      <td>https://images.gr-assets.com/books/1358275419m...</td>\n",
              "      <td>https://images.gr-assets.com/books/1358275419s...</td>\n",
              "      <td>78525</td>\n",
              "    </tr>\n",
              "  </tbody>\n",
              "</table>\n",
              "<p>20 rows × 24 columns</p>\n",
              "</div>\n",
              "      <button class=\"colab-df-convert\" onclick=\"convertToInteractive('df-1482a6e3-2c07-4c55-b7cc-161754d13510')\"\n",
              "              title=\"Convert this dataframe to an interactive table.\"\n",
              "              style=\"display:none;\">\n",
              "        \n",
              "  <svg xmlns=\"http://www.w3.org/2000/svg\" height=\"24px\"viewBox=\"0 0 24 24\"\n",
              "       width=\"24px\">\n",
              "    <path d=\"M0 0h24v24H0V0z\" fill=\"none\"/>\n",
              "    <path d=\"M18.56 5.44l.94 2.06.94-2.06 2.06-.94-2.06-.94-.94-2.06-.94 2.06-2.06.94zm-11 1L8.5 8.5l.94-2.06 2.06-.94-2.06-.94L8.5 2.5l-.94 2.06-2.06.94zm10 10l.94 2.06.94-2.06 2.06-.94-2.06-.94-.94-2.06-.94 2.06-2.06.94z\"/><path d=\"M17.41 7.96l-1.37-1.37c-.4-.4-.92-.59-1.43-.59-.52 0-1.04.2-1.43.59L10.3 9.45l-7.72 7.72c-.78.78-.78 2.05 0 2.83L4 21.41c.39.39.9.59 1.41.59.51 0 1.02-.2 1.41-.59l7.78-7.78 2.81-2.81c.8-.78.8-2.07 0-2.86zM5.41 20L4 18.59l7.72-7.72 1.47 1.35L5.41 20z\"/>\n",
              "  </svg>\n",
              "      </button>\n",
              "      \n",
              "  <style>\n",
              "    .colab-df-container {\n",
              "      display:flex;\n",
              "      flex-wrap:wrap;\n",
              "      gap: 12px;\n",
              "    }\n",
              "\n",
              "    .colab-df-convert {\n",
              "      background-color: #E8F0FE;\n",
              "      border: none;\n",
              "      border-radius: 50%;\n",
              "      cursor: pointer;\n",
              "      display: none;\n",
              "      fill: #1967D2;\n",
              "      height: 32px;\n",
              "      padding: 0 0 0 0;\n",
              "      width: 32px;\n",
              "    }\n",
              "\n",
              "    .colab-df-convert:hover {\n",
              "      background-color: #E2EBFA;\n",
              "      box-shadow: 0px 1px 2px rgba(60, 64, 67, 0.3), 0px 1px 3px 1px rgba(60, 64, 67, 0.15);\n",
              "      fill: #174EA6;\n",
              "    }\n",
              "\n",
              "    [theme=dark] .colab-df-convert {\n",
              "      background-color: #3B4455;\n",
              "      fill: #D2E3FC;\n",
              "    }\n",
              "\n",
              "    [theme=dark] .colab-df-convert:hover {\n",
              "      background-color: #434B5C;\n",
              "      box-shadow: 0px 1px 3px 1px rgba(0, 0, 0, 0.15);\n",
              "      filter: drop-shadow(0px 1px 2px rgba(0, 0, 0, 0.3));\n",
              "      fill: #FFFFFF;\n",
              "    }\n",
              "  </style>\n",
              "\n",
              "      <script>\n",
              "        const buttonEl =\n",
              "          document.querySelector('#df-1482a6e3-2c07-4c55-b7cc-161754d13510 button.colab-df-convert');\n",
              "        buttonEl.style.display =\n",
              "          google.colab.kernel.accessAllowed ? 'block' : 'none';\n",
              "\n",
              "        async function convertToInteractive(key) {\n",
              "          const element = document.querySelector('#df-1482a6e3-2c07-4c55-b7cc-161754d13510');\n",
              "          const dataTable =\n",
              "            await google.colab.kernel.invokeFunction('convertToInteractive',\n",
              "                                                     [key], {});\n",
              "          if (!dataTable) return;\n",
              "\n",
              "          const docLinkHtml = 'Like what you see? Visit the ' +\n",
              "            '<a target=\"_blank\" href=https://colab.research.google.com/notebooks/data_table.ipynb>data table notebook</a>'\n",
              "            + ' to learn more about interactive tables.';\n",
              "          element.innerHTML = '';\n",
              "          dataTable['output_type'] = 'display_data';\n",
              "          await google.colab.output.renderOutput(dataTable, element);\n",
              "          const docLink = document.createElement('div');\n",
              "          docLink.innerHTML = docLinkHtml;\n",
              "          element.appendChild(docLink);\n",
              "        }\n",
              "      </script>\n",
              "    </div>\n",
              "  </div>\n",
              "  "
            ]
          },
          "metadata": {},
          "execution_count": 40
        }
      ]
    },
    {
      "cell_type": "code",
      "execution_count": 49,
      "metadata": {
        "id": "RTupyyEr6vRb",
        "colab": {
          "base_uri": "https://localhost:8080/"
        },
        "outputId": "2c699a22-c349-4bd1-be43-9fca7b062e37"
      },
      "outputs": [
        {
          "output_type": "stream",
          "name": "stdout",
          "text": [
            "Please insert three book id to be rated!\n",
            "Book id : 34\n",
            "Rating on book 34\n",
            "Rating : 3\n",
            "Please insert three book id to be rated!\n",
            "Book id : 23\n",
            "Rating on book 23\n",
            "Rating : 4\n",
            "Please insert three book id to be rated!\n",
            "Book id : 12\n",
            "Rating on book 12\n",
            "Rating : 3\n",
            "Buku yang mungkin kamu suka\n",
            "        id   book_id  best_book_id   work_id  books_count        isbn  \\\n",
            "1233  1234     67920         67920   2912372           36   446359408   \n",
            "3539  3540      9555          9555    693417           80   679750533   \n",
            "5417  5418   9628743       9628743  14516046           30  140006760X   \n",
            "7670  7671    896622        896622   1331430           48   380007789   \n",
            "9039  9040  24396884      24396884  43981459           24   316407038   \n",
            "\n",
            "            isbn13                                      authors  \\\n",
            "1233  9.780446e+12                        Flora Rheta Schreiber   \n",
            "3539  9.780680e+12  Haruki Murakami, Jay Rubin, Alfred Birnbaum   \n",
            "5417  9.781400e+12                                David  Brooks   \n",
            "7670  9.780380e+12                        Kathleen E. Woodiwiss   \n",
            "9039  9.780316e+12            James Patterson, Michael Ledwidge   \n",
            "\n",
            "      original_publication_year  \\\n",
            "1233                     1973.0   \n",
            "3539                     1993.0   \n",
            "5417                     2011.0   \n",
            "7670                     1974.0   \n",
            "9039                     2015.0   \n",
            "\n",
            "                                         original_title  ...  \\\n",
            "1233                                              Sybil  ...   \n",
            "3539                              象の消滅 [Zō no shōmetsu]  ...   \n",
            "5417  The Social Animal: The Hidden Sources of Love,...  ...   \n",
            "7670                              The wolf and the dove  ...   \n",
            "9039                                              Alert  ...   \n",
            "\n",
            "     work_ratings_count work_text_reviews_count  ratings_1  ratings_2  \\\n",
            "1233              73855                    1271       1086       3345   \n",
            "3539              27800                    1604        202       1218   \n",
            "5417              16744                    1492        426       1230   \n",
            "7670              15105                     562        312        704   \n",
            "9039              11378                     889        197        603   \n",
            "\n",
            "      ratings_3  ratings_4  ratings_5  \\\n",
            "1233      16767      26328      26329   \n",
            "3539       7205      12169       7006   \n",
            "5417       4060       6145       4883   \n",
            "7670       2527       4579       6983   \n",
            "9039       2562       4422       3594   \n",
            "\n",
            "                                              image_url  \\\n",
            "1233  https://s.gr-assets.com/assets/nophoto/book/11...   \n",
            "3539  https://images.gr-assets.com/books/1391384346m...   \n",
            "5417  https://s.gr-assets.com/assets/nophoto/book/11...   \n",
            "7670  https://s.gr-assets.com/assets/nophoto/book/11...   \n",
            "9039  https://images.gr-assets.com/books/1424306640m...   \n",
            "\n",
            "                                        small_image_url   price  \n",
            "1233  https://s.gr-assets.com/assets/nophoto/book/50...   77965  \n",
            "3539  https://images.gr-assets.com/books/1391384346s...  193821  \n",
            "5417  https://s.gr-assets.com/assets/nophoto/book/50...   41700  \n",
            "7670  https://s.gr-assets.com/assets/nophoto/book/50...  175540  \n",
            "9039  https://images.gr-assets.com/books/1424306640s...  197161  \n",
            "\n",
            "[5 rows x 24 columns]\n"
          ]
        }
      ],
      "source": [
        "#Recommendation system\n",
        "import pandas as pd\n",
        "\n",
        "\n",
        "rating = pd.read_csv(\"/content/rating_scale.csv\", sep=\",\")\n",
        "max_user_id = rating['user_id'].max()\n",
        "new_user_id = rating['user_id'].max()+1\n",
        "new_user_book = []\n",
        "#new_user_book = [1406, 1308, 6006, 2008] # buku yang dipilih masih asal\n",
        "z = 0\n",
        "while z < 3:\n",
        "  print(f'Please insert three book id to be rated!')\n",
        "  new_book = int(input(\"Book id : \"))\n",
        "  new_user_book = [new_book]\n",
        "  list_rating =[]\n",
        "  for i in new_user_book:\n",
        "    print(f'Rating on book {i}')\n",
        "    new_user_rating = int(input(\"Rating : \"))\n",
        "    List = [new_book,new_user_id,new_user_rating,new_user_rating/5]\n",
        "    list_rating.append(List)\n",
        "\n",
        "  from csv import writer\n",
        "  def append_list_as_row(file_name, list_elements):\n",
        "      with open(file_name, 'a+', newline='') as write_object:\n",
        "          csv_writer = writer(write_object)\n",
        "          csv_writer.writerows(list_elements)\n",
        "\n",
        "  append_list_as_row('rating_scale.csv', list_rating)\n",
        "  z = z+1\n",
        "\n",
        "book_data = np.array(list(set(dataset.book_id)))\n",
        "user = np.array([max_user_id for i in range(len(book_data))])\n",
        "predictions = model2_8juni10.predict([user, book_data])\n",
        "predictions = np.array([a[0] for a in predictions])\n",
        "recommended_book_ids = (-predictions).argsort()[:5]\n",
        "\n",
        "books = pd.read_csv('books_price.csv')\n",
        "books.head()\n",
        "print('Buku yang mungkin kamu suka')\n",
        "print(books[books['id'].isin(recommended_book_ids)])\n",
        "\n",
        "#print(recommended_book_ids)\n",
        "#print(predictions[recommended_book_ids])"
      ]
    },
    {
      "cell_type": "markdown",
      "source": [
        "CODE DI BAWAH GAK USAH DIMASUKIN!"
      ],
      "metadata": {
        "id": "pTkS2sFkfK9d"
      }
    },
    {
      "cell_type": "code",
      "execution_count": 12,
      "metadata": {
        "id": "LgVIq6lAY4hu"
      },
      "outputs": [],
      "source": [
        "# Extract embeddings\n",
        "book_em = model2_8juni10.get_layer('Book-Embedding')\n",
        "book_em_weights = book_em.get_weights()[0]"
      ]
    },
    {
      "cell_type": "code",
      "source": [
        "rating = pd.read_csv(\"/content/rating_scale.csv\", sep=\",\")\n",
        "max_user_id = rating['user_id'].max()\n",
        "print(max_user_id)"
      ],
      "metadata": {
        "colab": {
          "base_uri": "https://localhost:8080/"
        },
        "id": "Lrd778b7rEaS",
        "outputId": "9db153fe-5a9b-4f5c-e9b7-9531ddcea983"
      },
      "execution_count": 24,
      "outputs": [
        {
          "output_type": "stream",
          "name": "stdout",
          "text": [
            "53426\n"
          ]
        }
      ]
    },
    {
      "cell_type": "code",
      "source": [
        "def visualize_training(history, lw = 3):\n",
        "\n",
        "    plt.figure(figsize=(10,6))\n",
        "    plt.plot(history.history['loss'], label = 'training', marker = '*', linewidth = lw)\n",
        "    plt.title('Training Loss')\n",
        "    plt.xlabel('Epochs')\n",
        "    plt.ylabel('Loss')\n",
        "    plt.legend(fontsize = 'x-large')\n",
        "    plt.show()\n",
        "visualize_training(history)"
      ],
      "metadata": {
        "colab": {
          "base_uri": "https://localhost:8080/",
          "height": 404
        },
        "id": "0D-186ctDLl1",
        "outputId": "72e2bf91-9a35-47f4-b7c0-c3d55be39d39"
      },
      "execution_count": 13,
      "outputs": [
        {
          "output_type": "display_data",
          "data": {
            "text/plain": [
              "<Figure size 720x432 with 1 Axes>"
            ],
            "image/png": "[encoded data removed]"
          },
          "metadata": {
            "needs_background": "light"
          }
        }
      ]
    },
    {
      "cell_type": "code",
      "source": [
        "#model2_8juni10.evaluate([test.user_id, test.book_id], test.rating)"
      ],
      "metadata": {
        "colab": {
          "base_uri": "https://localhost:8080/"
        },
        "id": "H4-eQMj0DXdE",
        "outputId": "bababc68-a189-457c-e115-5ba5a30a3e41"
      },
      "execution_count": null,
      "outputs": [
        {
          "output_type": "stream",
          "name": "stdout",
          "text": [
            "6136/6136 [==============================] - 17s 3ms/step - loss: 15.7980\n"
          ]
        },
        {
          "output_type": "execute_result",
          "data": {
            "text/plain": [
              "15.798007011413574"
            ]
          },
          "metadata": {},
          "execution_count": 23
        }
      ]
    },
    {
      "cell_type": "code",
      "execution_count": 7,
      "metadata": {
        "colab": {
          "base_uri": "https://localhost:8080/"
        },
        "id": "sc0NAxYjfePY",
        "outputId": "8043e6b0-48ea-4d14-a05c-c261c532788c"
      },
      "outputs": [
        {
          "output_type": "stream",
          "name": "stdout",
          "text": [
            "cp: cannot stat 'kaggle.json': No such file or directory\n",
            "chmod: cannot access '/root/.kaggle/kaggle.json': No such file or directory\n",
            "Traceback (most recent call last):\n",
            "  File \"/usr/local/bin/kaggle\", line 5, in <module>\n",
            "    from kaggle.cli import main\n",
            "  File \"/usr/local/lib/python3.7/dist-packages/kaggle/__init__.py\", line 23, in <module>\n",
            "    api.authenticate()\n",
            "  File \"/usr/local/lib/python3.7/dist-packages/kaggle/api/kaggle_api_extended.py\", line 166, in authenticate\n",
            "    self.config_file, self.config_dir))\n",
            "OSError: Could not find kaggle.json. Make sure it's located in /root/.kaggle. Or use the environment method.\n",
            "unzip:  cannot find or open goodbooks-10k.zip, goodbooks-10k.zip.zip or goodbooks-10k.zip.ZIP.\n"
          ]
        }
      ],
      "source": [
        "! mkdir ~/.kaggle\n",
        "! cp kaggle.json ~/.kaggle/\n",
        "! chmod 600 ~/.kaggle/kaggle.json\n",
        "! kaggle datasets download zygmunt/goodbooks-10k\n",
        "! unzip goodbooks-10k.zip"
      ]
    },
    {
      "cell_type": "code",
      "source": [
        "#from keras.models import load_model\n",
        "\n",
        "#if os.path.exists('regression_model2.h5'):\n",
        "    #model2 = load_model('regression_model2.h5')\n",
        "#else:\n",
        "    #history = model2_6juni9.fit([train.user_id, train.book_id], train.scale_rating, epochs=10, verbose=1)\n",
        "    #model2.save('regression_model2.h5')\n",
        "    #plt.plot(history.history['loss'])\n",
        "    #plt.xlabel(\"Epochs\")\n",
        "    #plt.ylabel(\"Training Error\")"
      ],
      "metadata": {
        "id": "biv_umDJ5-i5",
        "colab": {
          "base_uri": "https://localhost:8080/",
          "height": 252
        },
        "outputId": "f09d58b1-a7df-4c22-83ba-24f8024c58e4"
      },
      "execution_count": null,
      "outputs": [
        {
          "output_type": "error",
          "ename": "NameError",
          "evalue": "ignored",
          "traceback": [
            "\u001b[0;31m---------------------------------------------------------------------------\u001b[0m",
            "\u001b[0;31mNameError\u001b[0m                                 Traceback (most recent call last)",
            "\u001b[0;32m<ipython-input-24-c94f7a2cdd51>\u001b[0m in \u001b[0;36m<module>\u001b[0;34m()\u001b[0m\n\u001b[1;32m      4\u001b[0m     \u001b[0mmodel2\u001b[0m \u001b[0;34m=\u001b[0m \u001b[0mload_model\u001b[0m\u001b[0;34m(\u001b[0m\u001b[0;34m'regression_model2.h5'\u001b[0m\u001b[0;34m)\u001b[0m\u001b[0;34m\u001b[0m\u001b[0;34m\u001b[0m\u001b[0m\n\u001b[1;32m      5\u001b[0m \u001b[0;32melse\u001b[0m\u001b[0;34m:\u001b[0m\u001b[0;34m\u001b[0m\u001b[0;34m\u001b[0m\u001b[0m\n\u001b[0;32m----> 6\u001b[0;31m     \u001b[0mhistory\u001b[0m \u001b[0;34m=\u001b[0m \u001b[0mmodel2\u001b[0m\u001b[0;34m.\u001b[0m\u001b[0mfit\u001b[0m\u001b[0;34m(\u001b[0m\u001b[0;34m[\u001b[0m\u001b[0mtrain\u001b[0m\u001b[0;34m.\u001b[0m\u001b[0muser_id\u001b[0m\u001b[0;34m,\u001b[0m \u001b[0mtrain\u001b[0m\u001b[0;34m.\u001b[0m\u001b[0mbook_id\u001b[0m\u001b[0;34m]\u001b[0m\u001b[0;34m,\u001b[0m \u001b[0mtrain\u001b[0m\u001b[0;34m.\u001b[0m\u001b[0mscale_rating\u001b[0m\u001b[0;34m,\u001b[0m \u001b[0mepochs\u001b[0m\u001b[0;34m=\u001b[0m\u001b[0;36m10\u001b[0m\u001b[0;34m,\u001b[0m \u001b[0mverbose\u001b[0m\u001b[0;34m=\u001b[0m\u001b[0;36m1\u001b[0m\u001b[0;34m)\u001b[0m\u001b[0;34m\u001b[0m\u001b[0;34m\u001b[0m\u001b[0m\n\u001b[0m\u001b[1;32m      7\u001b[0m     \u001b[0mmodel2\u001b[0m\u001b[0;34m.\u001b[0m\u001b[0msave\u001b[0m\u001b[0;34m(\u001b[0m\u001b[0;34m'regression_model2.h5'\u001b[0m\u001b[0;34m)\u001b[0m\u001b[0;34m\u001b[0m\u001b[0;34m\u001b[0m\u001b[0m\n\u001b[1;32m      8\u001b[0m     \u001b[0mplt\u001b[0m\u001b[0;34m.\u001b[0m\u001b[0mplot\u001b[0m\u001b[0;34m(\u001b[0m\u001b[0mhistory\u001b[0m\u001b[0;34m.\u001b[0m\u001b[0mhistory\u001b[0m\u001b[0;34m[\u001b[0m\u001b[0;34m'loss'\u001b[0m\u001b[0;34m]\u001b[0m\u001b[0;34m)\u001b[0m\u001b[0;34m\u001b[0m\u001b[0;34m\u001b[0m\u001b[0m\n",
            "\u001b[0;31mNameError\u001b[0m: name 'model2' is not defined"
          ]
        }
      ]
    },
    {
      "cell_type": "code",
      "execution_count": null,
      "metadata": {
        "colab": {
          "base_uri": "https://localhost:8080/"
        },
        "id": "c6eqBmXLpWo2",
        "outputId": "6e2ccea5-a889-4f52-a5b2-855cd6ee1d5e"
      },
      "outputs": [
        {
          "output_type": "stream",
          "name": "stdout",
          "text": [
            "Epoch 1/10\n",
            "24544/24544 [==============================] - 81s 3ms/step - loss: 14.1981\n",
            "Epoch 2/10\n",
            "24544/24544 [==============================] - 80s 3ms/step - loss: 5.0596\n",
            "Epoch 3/10\n",
            "24544/24544 [==============================] - 79s 3ms/step - loss: 1.8623\n",
            "Epoch 4/10\n",
            "24544/24544 [==============================] - 79s 3ms/step - loss: 1.2093\n",
            "Epoch 5/10\n",
            "24544/24544 [==============================] - 79s 3ms/step - loss: 0.9593\n",
            "Epoch 6/10\n",
            "24544/24544 [==============================] - 80s 3ms/step - loss: 0.8335\n",
            "Epoch 7/10\n",
            "24544/24544 [==============================] - 80s 3ms/step - loss: 0.7609\n",
            "Epoch 8/10\n",
            "24544/24544 [==============================] - 81s 3ms/step - loss: 0.7160\n",
            "Epoch 9/10\n",
            "24544/24544 [==============================] - 79s 3ms/step - loss: 0.6861\n",
            "Epoch 10/10\n",
            "24544/24544 [==============================] - 76s 3ms/step - loss: 0.6660\n"
          ]
        }
      ],
      "source": [
        "#history = model.fit([train.user_id, train.book_id], train.rating, epochs=10, verbose=1)\n",
        "#model.save('regression_model.h5')"
      ]
    },
    {
      "cell_type": "code",
      "source": [
        "#model2.evaluate([test.user_id, test.book_id], test.rating)"
      ],
      "metadata": {
        "colab": {
          "base_uri": "https://localhost:8080/"
        },
        "id": "44mY1ilc8IcD",
        "outputId": "90559def-1113-4d75-b735-0b77fa2fec1d"
      },
      "execution_count": null,
      "outputs": [
        {
          "output_type": "stream",
          "name": "stdout",
          "text": [
            "6136/6136 [==============================] - 6s 929us/step - loss: 0.7121\n"
          ]
        },
        {
          "output_type": "execute_result",
          "data": {
            "text/plain": [
              "0.7121356129646301"
            ]
          },
          "metadata": {},
          "execution_count": 25
        }
      ]
    },
    {
      "cell_type": "code",
      "source": [
        "#predictions = model2_8juni10.predict([test.user_id.head(30), test.book_id.head(30)])\n",
        "\n",
        "#[print(predictions[i]*5, test.rating.iloc[i]) for i in range(0,30)]"
      ],
      "metadata": {
        "colab": {
          "base_uri": "https://localhost:8080/"
        },
        "id": "zZp6h0Tr8j1Q",
        "outputId": "32a8afd5-e831-495f-b0c1-bd26e4b9edd8"
      },
      "execution_count": null,
      "outputs": [
        {
          "output_type": "stream",
          "name": "stdout",
          "text": [
            "[5.352394] 5\n",
            "[3.56746] 4\n",
            "[3.2250478] 3\n",
            "[4.219908] 5\n",
            "[2.97132] 3\n",
            "[4.0836625] 3\n",
            "[2.8719854] 3\n",
            "[4.998886] 4\n",
            "[4.6083784] 3\n",
            "[4.498634] 5\n",
            "[3.5303628] 5\n",
            "[2.763485] 4\n",
            "[4.431861] 5\n",
            "[3.8245754] 5\n",
            "[4.377733] 5\n",
            "[4.5481305] 5\n",
            "[3.4868164] 4\n",
            "[2.826605] 4\n",
            "[4.3062625] 4\n",
            "[3.8144186] 4\n",
            "[4.0296836] 4\n",
            "[4.486546] 3\n",
            "[4.8702292] 2\n",
            "[4.7375355] 3\n",
            "[3.6955392] 3\n",
            "[4.232916] 3\n",
            "[3.4170704] 4\n",
            "[4.0070577] 3\n",
            "[2.6085508] 2\n",
            "[4.456669] 5\n"
          ]
        },
        {
          "output_type": "execute_result",
          "data": {
            "text/plain": [
              "[None,\n",
              " None,\n",
              " None,\n",
              " None,\n",
              " None,\n",
              " None,\n",
              " None,\n",
              " None,\n",
              " None,\n",
              " None,\n",
              " None,\n",
              " None,\n",
              " None,\n",
              " None,\n",
              " None,\n",
              " None,\n",
              " None,\n",
              " None,\n",
              " None,\n",
              " None,\n",
              " None,\n",
              " None,\n",
              " None,\n",
              " None,\n",
              " None,\n",
              " None,\n",
              " None,\n",
              " None,\n",
              " None,\n",
              " None]"
            ]
          },
          "metadata": {},
          "execution_count": 9
        }
      ]
    },
    {
      "cell_type": "code",
      "execution_count": null,
      "metadata": {
        "colab": {
          "base_uri": "https://localhost:8080/",
          "height": 404
        },
        "id": "5WA4BMdOd9TE",
        "outputId": "263f3d55-d337-4a9c-9c25-1b372362b8b8"
      },
      "outputs": [
        {
          "data": {
            "image/png": "[encoded data removed]",
            "text/plain": [
              "<Figure size 720x432 with 1 Axes>"
            ]
          },
          "metadata": {},
          "output_type": "display_data"
        }
      ],
      "source": [
        "#def visualize_training(history, lw = 3):\n",
        "\n",
        "    #plt.figure(figsize=(10,6))\n",
        "    #plt.plot(history.history['loss'], label = 'training', marker = '*', linewidth = lw)\n",
        "    #plt.title('Training Loss')\n",
        "    #plt.xlabel('Epochs')\n",
        "    #plt.ylabel('Loss')\n",
        "    #plt.legend(fontsize = 'x-large')\n",
        "    #plt.show()\n",
        "#visualize_training(history)"
      ]
    },
    {
      "cell_type": "code",
      "execution_count": null,
      "metadata": {
        "colab": {
          "base_uri": "https://localhost:8080/",
          "height": 282
        },
        "id": "UKU1bjunZFWy",
        "outputId": "da83d334-e4c6-4316-fda8-32fa43632b4d"
      },
      "outputs": [
        {
          "data": {
            "text/plain": [
              "<matplotlib.axes._subplots.AxesSubplot at 0x7f2aa9476590>"
            ]
          },
          "execution_count": 44,
          "metadata": {},
          "output_type": "execute_result"
        },
        {
          "data": {
            "image/png": "[encoded data removed]",
            "text/plain": [
              "<Figure size 432x288 with 1 Axes>"
            ]
          },
          "metadata": {},
          "output_type": "display_data"
        }
      ],
      "source": [
        "#from sklearn.decomposition import PCA\n",
        "#import seaborn as sns\n",
        "\n",
        "#pca = PCA(n_components=2)\n",
        "#pca_result = pca.fit_transform(book_em_weights)\n",
        "#sns.scatterplot(x=pca_result[:,0], y=pca_result[:,1])"
      ]
    },
    {
      "cell_type": "code",
      "execution_count": null,
      "metadata": {
        "colab": {
          "base_uri": "https://localhost:8080/"
        },
        "id": "fvPHcthBIzJp",
        "outputId": "f075b7c4-9023-4e83-df61-83db2d0c745c"
      },
      "outputs": [
        {
          "output_type": "stream",
          "name": "stdout",
          "text": [
            "        id   book_id  best_book_id   work_id  books_count       isbn  \\\n",
            "1786  1787  20317106      20317106  28155746            7        NaN   \n",
            "3751  3752    140302        477597   1952109          141        NaN   \n",
            "8852  8853    168569        168569   1520707           35  425157539   \n",
            "8944  8945     32529         32529   3214115           40  752848267   \n",
            "9840  9841     15101         15101    876908           55  380815923   \n",
            "\n",
            "            isbn13          authors  original_publication_year  \\\n",
            "1786           NaN        محمد صادق                     2014.0   \n",
            "3751           NaN  Agatha Christie                     1924.0   \n",
            "8852  9.780425e+12    John Sandford                     1996.0   \n",
            "8944  9.780753e+12     Lisa Gardner                     2001.0   \n",
            "9840  9.780381e+12    Joanne Harris                     1999.0   \n",
            "\n",
            "           original_title  ... ratings_count work_ratings_count  \\\n",
            "1786                هيبتا  ...         42978              43298   \n",
            "3751  Poirot Investigates  ...         15476              29408   \n",
            "8852          Sudden Prey  ...         12408              13797   \n",
            "8944    The Next Accident  ...         11261              13328   \n",
            "9840      Blackberry Wine  ...          9558              11107   \n",
            "\n",
            "      work_text_reviews_count  ratings_1  ratings_2  ratings_3  ratings_4  \\\n",
            "1786                     5680       2886       4135       8052      11237   \n",
            "3751                      779        216       1003       6529      10450   \n",
            "8852                      363         46        209       2298       6279   \n",
            "8944                      513         49        231       2323       5612   \n",
            "9840                      699        163        755       3215       4220   \n",
            "\n",
            "      ratings_5                                          image_url  \\\n",
            "1786      16988  https://images.gr-assets.com/books/1403045796m...   \n",
            "3751      11210  https://images.gr-assets.com/books/1359475912m...   \n",
            "8852       4965  https://s.gr-assets.com/assets/nophoto/book/11...   \n",
            "8944       5113  https://images.gr-assets.com/books/1348816896m...   \n",
            "9840       2754  https://s.gr-assets.com/assets/nophoto/book/11...   \n",
            "\n",
            "                                        small_image_url  \n",
            "1786  https://images.gr-assets.com/books/1403045796s...  \n",
            "3751  https://images.gr-assets.com/books/1359475912s...  \n",
            "8852  https://s.gr-assets.com/assets/nophoto/book/50...  \n",
            "8944  https://images.gr-assets.com/books/1348816896s...  \n",
            "9840  https://s.gr-assets.com/assets/nophoto/book/50...  \n",
            "\n",
            "[5 rows x 23 columns]\n"
          ]
        }
      ],
      "source": [
        "books = pd.read_csv('books.csv')\n",
        "books.head()\n",
        "print(books[books['id'].isin(recommended_book_ids)])"
      ]
    },
    {
      "cell_type": "code",
      "execution_count": 33,
      "metadata": {
        "colab": {
          "base_uri": "https://localhost:8080/"
        },
        "id": "gVzB-blQtXdX",
        "outputId": "359277e5-04d4-4150-a927-6b91c0475dec"
      },
      "outputs": [
        {
          "output_type": "stream",
          "name": "stderr",
          "text": [
            "WARNING:absl:Function `_wrapped_model` contains input name(s) User-Input, Book-Input with unsupported characters which will be renamed to user_input, book_input in the SavedModel.\n"
          ]
        },
        {
          "output_type": "stream",
          "name": "stdout",
          "text": [
            "INFO:tensorflow:Assets written to: /tmp/tmp8gthhuuj/assets\n"
          ]
        },
        {
          "output_type": "stream",
          "name": "stderr",
          "text": [
            "INFO:tensorflow:Assets written to: /tmp/tmp8gthhuuj/assets\n",
            "WARNING:absl:Buffer deduplication procedure will be skipped when flatbuffer library is not properly loaded\n"
          ]
        }
      ],
      "source": [
        "converter = tf.lite.TFLiteConverter.from_keras_model(model2_8juni10)\n",
        "tfl_classifier = converter.convert()"
      ]
    },
    {
      "cell_type": "code",
      "execution_count": 36,
      "metadata": {
        "id": "-jhmku3Awkqg"
      },
      "outputs": [],
      "source": [
        "with open('classifier.tflite', 'wb') as f:\n",
        "  f.write(tfl_classifier)"
      ]
    },
    {
      "cell_type": "code",
      "execution_count": null,
      "metadata": {
        "colab": {
          "base_uri": "https://localhost:8080/",
          "height": 358
        },
        "id": "3E-QPw55tFnN",
        "outputId": "8f9061a1-f6d6-43d9-cf9d-91821f7db6ed"
      },
      "outputs": [
        {
          "output_type": "error",
          "ename": "NameError",
          "evalue": "ignored",
          "traceback": [
            "\u001b[0;31m---------------------------------------------------------------------------\u001b[0m",
            "\u001b[0;31mNameError\u001b[0m                                 Traceback (most recent call last)",
            "\u001b[0;32m<ipython-input-51-4bbd275fbf52>\u001b[0m in \u001b[0;36m<module>\u001b[0;34m()\u001b[0m\n\u001b[1;32m      1\u001b[0m \u001b[0mbook_data\u001b[0m \u001b[0;34m=\u001b[0m \u001b[0mnp\u001b[0m\u001b[0;34m.\u001b[0m\u001b[0marray\u001b[0m\u001b[0;34m(\u001b[0m\u001b[0mlist\u001b[0m\u001b[0;34m(\u001b[0m\u001b[0mset\u001b[0m\u001b[0;34m(\u001b[0m\u001b[0mdataset\u001b[0m\u001b[0;34m.\u001b[0m\u001b[0mbook_id\u001b[0m\u001b[0;34m)\u001b[0m\u001b[0;34m)\u001b[0m\u001b[0;34m)\u001b[0m\u001b[0;34m\u001b[0m\u001b[0;34m\u001b[0m\u001b[0m\n\u001b[0;32m----> 2\u001b[0;31m \u001b[0muser\u001b[0m \u001b[0;34m=\u001b[0m \u001b[0mnp\u001b[0m\u001b[0;34m.\u001b[0m\u001b[0marray\u001b[0m\u001b[0;34m(\u001b[0m\u001b[0;34m[\u001b[0m\u001b[0maz\u001b[0m \u001b[0;32mfor\u001b[0m \u001b[0mi\u001b[0m \u001b[0;32min\u001b[0m \u001b[0mrange\u001b[0m\u001b[0;34m(\u001b[0m\u001b[0mlen\u001b[0m\u001b[0;34m(\u001b[0m\u001b[0mbook_data\u001b[0m\u001b[0;34m)\u001b[0m\u001b[0;34m)\u001b[0m\u001b[0;34m]\u001b[0m\u001b[0;34m)\u001b[0m\u001b[0;34m\u001b[0m\u001b[0;34m\u001b[0m\u001b[0m\n\u001b[0m\u001b[1;32m      3\u001b[0m \u001b[0mpredictions\u001b[0m \u001b[0;34m=\u001b[0m \u001b[0mmodel2_8juni10\u001b[0m\u001b[0;34m.\u001b[0m\u001b[0mpredict\u001b[0m\u001b[0;34m(\u001b[0m\u001b[0;34m[\u001b[0m\u001b[0muser\u001b[0m\u001b[0;34m,\u001b[0m \u001b[0mbook_data\u001b[0m\u001b[0;34m]\u001b[0m\u001b[0;34m)\u001b[0m\u001b[0;34m\u001b[0m\u001b[0;34m\u001b[0m\u001b[0m\n\u001b[1;32m      4\u001b[0m \u001b[0mpredictions\u001b[0m \u001b[0;34m=\u001b[0m \u001b[0mnp\u001b[0m\u001b[0;34m.\u001b[0m\u001b[0marray\u001b[0m\u001b[0;34m(\u001b[0m\u001b[0;34m[\u001b[0m\u001b[0ma\u001b[0m\u001b[0;34m[\u001b[0m\u001b[0;36m0\u001b[0m\u001b[0;34m]\u001b[0m \u001b[0;32mfor\u001b[0m \u001b[0ma\u001b[0m \u001b[0;32min\u001b[0m \u001b[0mpredictions\u001b[0m\u001b[0;34m]\u001b[0m\u001b[0;34m)\u001b[0m\u001b[0;34m\u001b[0m\u001b[0;34m\u001b[0m\u001b[0m\n\u001b[1;32m      5\u001b[0m \u001b[0mrecommended_book_ids\u001b[0m \u001b[0;34m=\u001b[0m \u001b[0;34m(\u001b[0m\u001b[0;34m-\u001b[0m\u001b[0mpredictions\u001b[0m\u001b[0;34m)\u001b[0m\u001b[0;34m.\u001b[0m\u001b[0margsort\u001b[0m\u001b[0;34m(\u001b[0m\u001b[0;34m)\u001b[0m\u001b[0;34m[\u001b[0m\u001b[0;34m:\u001b[0m\u001b[0;36m5\u001b[0m\u001b[0;34m]\u001b[0m\u001b[0;34m\u001b[0m\u001b[0;34m\u001b[0m\u001b[0m\n",
            "\u001b[0;32m<ipython-input-51-4bbd275fbf52>\u001b[0m in \u001b[0;36m<listcomp>\u001b[0;34m(.0)\u001b[0m\n\u001b[1;32m      1\u001b[0m \u001b[0mbook_data\u001b[0m \u001b[0;34m=\u001b[0m \u001b[0mnp\u001b[0m\u001b[0;34m.\u001b[0m\u001b[0marray\u001b[0m\u001b[0;34m(\u001b[0m\u001b[0mlist\u001b[0m\u001b[0;34m(\u001b[0m\u001b[0mset\u001b[0m\u001b[0;34m(\u001b[0m\u001b[0mdataset\u001b[0m\u001b[0;34m.\u001b[0m\u001b[0mbook_id\u001b[0m\u001b[0;34m)\u001b[0m\u001b[0;34m)\u001b[0m\u001b[0;34m)\u001b[0m\u001b[0;34m\u001b[0m\u001b[0;34m\u001b[0m\u001b[0m\n\u001b[0;32m----> 2\u001b[0;31m \u001b[0muser\u001b[0m \u001b[0;34m=\u001b[0m \u001b[0mnp\u001b[0m\u001b[0;34m.\u001b[0m\u001b[0marray\u001b[0m\u001b[0;34m(\u001b[0m\u001b[0;34m[\u001b[0m\u001b[0maz\u001b[0m \u001b[0;32mfor\u001b[0m \u001b[0mi\u001b[0m \u001b[0;32min\u001b[0m \u001b[0mrange\u001b[0m\u001b[0;34m(\u001b[0m\u001b[0mlen\u001b[0m\u001b[0;34m(\u001b[0m\u001b[0mbook_data\u001b[0m\u001b[0;34m)\u001b[0m\u001b[0;34m)\u001b[0m\u001b[0;34m]\u001b[0m\u001b[0;34m)\u001b[0m\u001b[0;34m\u001b[0m\u001b[0;34m\u001b[0m\u001b[0m\n\u001b[0m\u001b[1;32m      3\u001b[0m \u001b[0mpredictions\u001b[0m \u001b[0;34m=\u001b[0m \u001b[0mmodel2_8juni10\u001b[0m\u001b[0;34m.\u001b[0m\u001b[0mpredict\u001b[0m\u001b[0;34m(\u001b[0m\u001b[0;34m[\u001b[0m\u001b[0muser\u001b[0m\u001b[0;34m,\u001b[0m \u001b[0mbook_data\u001b[0m\u001b[0;34m]\u001b[0m\u001b[0;34m)\u001b[0m\u001b[0;34m\u001b[0m\u001b[0;34m\u001b[0m\u001b[0m\n\u001b[1;32m      4\u001b[0m \u001b[0mpredictions\u001b[0m \u001b[0;34m=\u001b[0m \u001b[0mnp\u001b[0m\u001b[0;34m.\u001b[0m\u001b[0marray\u001b[0m\u001b[0;34m(\u001b[0m\u001b[0;34m[\u001b[0m\u001b[0ma\u001b[0m\u001b[0;34m[\u001b[0m\u001b[0;36m0\u001b[0m\u001b[0;34m]\u001b[0m \u001b[0;32mfor\u001b[0m \u001b[0ma\u001b[0m \u001b[0;32min\u001b[0m \u001b[0mpredictions\u001b[0m\u001b[0;34m]\u001b[0m\u001b[0;34m)\u001b[0m\u001b[0;34m\u001b[0m\u001b[0;34m\u001b[0m\u001b[0m\n\u001b[1;32m      5\u001b[0m \u001b[0mrecommended_book_ids\u001b[0m \u001b[0;34m=\u001b[0m \u001b[0;34m(\u001b[0m\u001b[0;34m-\u001b[0m\u001b[0mpredictions\u001b[0m\u001b[0;34m)\u001b[0m\u001b[0;34m.\u001b[0m\u001b[0margsort\u001b[0m\u001b[0;34m(\u001b[0m\u001b[0;34m)\u001b[0m\u001b[0;34m[\u001b[0m\u001b[0;34m:\u001b[0m\u001b[0;36m5\u001b[0m\u001b[0;34m]\u001b[0m\u001b[0;34m\u001b[0m\u001b[0;34m\u001b[0m\u001b[0m\n",
            "\u001b[0;31mNameError\u001b[0m: name 'az' is not defined"
          ]
        }
      ],
      "source": [
        "#book_data = np.array(list(set(dataset.book_id)))\n",
        "#user = np.array([az for i in range(len(book_data))])\n",
        "#predictions = model2_8juni10.predict([user, book_data])\n",
        "#predictions = np.array([a[0] for a in predictions])\n",
        "#recommended_book_ids = (-predictions).argsort()[:5]\n",
        "#print(recommended_book_ids)\n",
        "#print(predictions[recommended_book_ids])"
      ]
    }
  ],
  "metadata": {
    "colab": {
      "name": "Copy of Copy of Alhamdulillah bisa deploy2.ipynb",
      "provenance": []
    },
    "kernelspec": {
      "display_name": "Python 3",
      "name": "python3"
    },
    "language_info": {
      "name": "python"
    }
  },
  "nbformat": 4,
  "nbformat_minor": 0
}