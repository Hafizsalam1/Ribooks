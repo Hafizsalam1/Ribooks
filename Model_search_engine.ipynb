{
  "nbformat": 4,
  "nbformat_minor": 0,
  "metadata": {
    "colab": {
      "name": "Model search engine.ipynb",
      "provenance": [],
      "collapsed_sections": []
    },
    "kernelspec": {
      "name": "python3",
      "display_name": "Python 3"
    },
    "language_info": {
      "name": "python"
    }
  },
  "cells": [
    {
      "cell_type": "code",
      "execution_count": null,
      "metadata": {
        "id": "ww5yGxiUtNRQ"
      },
      "outputs": [],
      "source": [
        "import pandas as pd\n",
        "import os\n",
        "import numpy as np\n",
        "from collections import Counter\n",
        "from nltk.tokenize import word_tokenize\n",
        "import seaborn as sns\n",
        "import matplotlib.pyplot as plt\n",
        "%matplotlib inline\n",
        "from wordcloud import wordcloud\n",
        "from sklearn.feature_extraction.text import CountVectorizer, TfidfVectorizer"
      ]
    },
    {
      "cell_type": "markdown",
      "source": [
        "# data goodreads_cleaning1"
      ],
      "metadata": {
        "id": "-ffzpmepCjNH"
      }
    },
    {
      "cell_type": "code",
      "source": [
        "data = pd.read_json(\"/content/goodreads_cleaning1.json\")"
      ],
      "metadata": {
        "id": "26eXzia7KMEU"
      },
      "execution_count": null,
      "outputs": []
    },
    {
      "cell_type": "code",
      "source": [
        "data.head(5)"
      ],
      "metadata": {
        "colab": {
          "base_uri": "https://localhost:8080/",
          "height": 652
        },
        "id": "QTKYuV8gXbdt",
        "outputId": "7547c5c2-40fe-4d3d-b92d-212a71bd7d91"
      },
      "execution_count": null,
      "outputs": [
        {
          "output_type": "execute_result",
          "data": {
            "text/plain": [
              "                                                 url  \\\n",
              "0  https://www.goodreads.com/book/show/2767052-th...   \n",
              "1  https://www.goodreads.com/book/show/41865.Twil...   \n",
              "2  https://www.goodreads.com/book/show/19063.The_...   \n",
              "3  https://www.goodreads.com/book/show/7613.Anima...   \n",
              "4  https://www.goodreads.com/book/show/11127.The_...   \n",
              "\n",
              "                  bookTitle  \\\n",
              "0          the hunger games   \n",
              "1                  twilight   \n",
              "2            the book thief   \n",
              "3               animal farm   \n",
              "4  the chronicles of narnia   \n",
              "\n",
              "                                           bookImage  \\\n",
              "0  https://i.gr-assets.com/images/S/compressed.ph...   \n",
              "1  https://i.gr-assets.com/images/S/compressed.ph...   \n",
              "2  https://i.gr-assets.com/images/S/compressed.ph...   \n",
              "3  https://i.gr-assets.com/images/S/compressed.ph...   \n",
              "4  https://i.gr-assets.com/images/S/compressed.ph...   \n",
              "\n",
              "                                         bookAuthors  \\\n",
              "0                                    suzanne collins   \n",
              "1                                    stephenie meyer   \n",
              "2                                       markus zusak   \n",
              "3  george orwellboris grabnarcelâl üstercelâl üst...   \n",
              "4                             cs lewispauline baynes   \n",
              "\n",
              "                                            bookDesc  bookRating  ratingCount  \\\n",
              "0  Could you survive on your own in the wild, wit...        4.32      6717635   \n",
              "1  About three things I was absolutely positive.F...        3.61      5231000   \n",
              "2  Librarian's note: An alternate cover edition c...        4.38      1954165   \n",
              "3  George Orwell's timeless and timely allegorica...        3.96      2926888   \n",
              "4  Librarian note: An alternate cover for this ed...        4.26       548649   \n",
              "\n",
              "   reviewCount  bookPages                                         bookGenres  \\\n",
              "0       176054        374  young adult fiction science fiction dystopia f...   \n",
              "1       107619        501  young adult fantasy romance fiction paranormal...   \n",
              "2       117307        552  historical historical fiction fiction young ad...   \n",
              "3        61574        122  classics fiction science fiction dystopia fant...   \n",
              "4        10743        767  fantasy classics fiction young adult childrens...   \n",
              "\n",
              "        bookISBN                                    recommendations  \n",
              "0  9780439023481  ['Divergent (Divergent, #1)|https://www.goodre...  \n",
              "1  9780316015844  ['The Hunger Games (The Hunger Games, #1)|http...  \n",
              "2  9780375831003  ['All the Light We Cannot See|https://www.good...  \n",
              "3  9780452284241  ['The Great Gatsby|https://www.goodreads.com/b...  \n",
              "4  9780066238500  ['J.R.R. Tolkien 4-Book Boxed Set: The Hobbit ...  "
            ],
            "text/html": [
              "\n",
              "  <div id=\"df-72f612a1-33cb-44b9-b701-093ecad024aa\">\n",
              "    <div class=\"colab-df-container\">\n",
              "      <div>\n",
              "<style scoped>\n",
              "    .dataframe tbody tr th:only-of-type {\n",
              "        vertical-align: middle;\n",
              "    }\n",
              "\n",
              "    .dataframe tbody tr th {\n",
              "        vertical-align: top;\n",
              "    }\n",
              "\n",
              "    .dataframe thead th {\n",
              "        text-align: right;\n",
              "    }\n",
              "</style>\n",
              "<table border=\"1\" class=\"dataframe\">\n",
              "  <thead>\n",
              "    <tr style=\"text-align: right;\">\n",
              "      <th></th>\n",
              "      <th>url</th>\n",
              "      <th>bookTitle</th>\n",
              "      <th>bookImage</th>\n",
              "      <th>bookAuthors</th>\n",
              "      <th>bookDesc</th>\n",
              "      <th>bookRating</th>\n",
              "      <th>ratingCount</th>\n",
              "      <th>reviewCount</th>\n",
              "      <th>bookPages</th>\n",
              "      <th>bookGenres</th>\n",
              "      <th>bookISBN</th>\n",
              "      <th>recommendations</th>\n",
              "    </tr>\n",
              "  </thead>\n",
              "  <tbody>\n",
              "    <tr>\n",
              "      <th>0</th>\n",
              "      <td>https://www.goodreads.com/book/show/2767052-th...</td>\n",
              "      <td>the hunger games</td>\n",
              "      <td>https://i.gr-assets.com/images/S/compressed.ph...</td>\n",
              "      <td>suzanne collins</td>\n",
              "      <td>Could you survive on your own in the wild, wit...</td>\n",
              "      <td>4.32</td>\n",
              "      <td>6717635</td>\n",
              "      <td>176054</td>\n",
              "      <td>374</td>\n",
              "      <td>young adult fiction science fiction dystopia f...</td>\n",
              "      <td>9780439023481</td>\n",
              "      <td>['Divergent (Divergent, #1)|https://www.goodre...</td>\n",
              "    </tr>\n",
              "    <tr>\n",
              "      <th>1</th>\n",
              "      <td>https://www.goodreads.com/book/show/41865.Twil...</td>\n",
              "      <td>twilight</td>\n",
              "      <td>https://i.gr-assets.com/images/S/compressed.ph...</td>\n",
              "      <td>stephenie meyer</td>\n",
              "      <td>About three things I was absolutely positive.F...</td>\n",
              "      <td>3.61</td>\n",
              "      <td>5231000</td>\n",
              "      <td>107619</td>\n",
              "      <td>501</td>\n",
              "      <td>young adult fantasy romance fiction paranormal...</td>\n",
              "      <td>9780316015844</td>\n",
              "      <td>['The Hunger Games (The Hunger Games, #1)|http...</td>\n",
              "    </tr>\n",
              "    <tr>\n",
              "      <th>2</th>\n",
              "      <td>https://www.goodreads.com/book/show/19063.The_...</td>\n",
              "      <td>the book thief</td>\n",
              "      <td>https://i.gr-assets.com/images/S/compressed.ph...</td>\n",
              "      <td>markus zusak</td>\n",
              "      <td>Librarian's note: An alternate cover edition c...</td>\n",
              "      <td>4.38</td>\n",
              "      <td>1954165</td>\n",
              "      <td>117307</td>\n",
              "      <td>552</td>\n",
              "      <td>historical historical fiction fiction young ad...</td>\n",
              "      <td>9780375831003</td>\n",
              "      <td>['All the Light We Cannot See|https://www.good...</td>\n",
              "    </tr>\n",
              "    <tr>\n",
              "      <th>3</th>\n",
              "      <td>https://www.goodreads.com/book/show/7613.Anima...</td>\n",
              "      <td>animal farm</td>\n",
              "      <td>https://i.gr-assets.com/images/S/compressed.ph...</td>\n",
              "      <td>george orwellboris grabnarcelâl üstercelâl üst...</td>\n",
              "      <td>George Orwell's timeless and timely allegorica...</td>\n",
              "      <td>3.96</td>\n",
              "      <td>2926888</td>\n",
              "      <td>61574</td>\n",
              "      <td>122</td>\n",
              "      <td>classics fiction science fiction dystopia fant...</td>\n",
              "      <td>9780452284241</td>\n",
              "      <td>['The Great Gatsby|https://www.goodreads.com/b...</td>\n",
              "    </tr>\n",
              "    <tr>\n",
              "      <th>4</th>\n",
              "      <td>https://www.goodreads.com/book/show/11127.The_...</td>\n",
              "      <td>the chronicles of narnia</td>\n",
              "      <td>https://i.gr-assets.com/images/S/compressed.ph...</td>\n",
              "      <td>cs lewispauline baynes</td>\n",
              "      <td>Librarian note: An alternate cover for this ed...</td>\n",
              "      <td>4.26</td>\n",
              "      <td>548649</td>\n",
              "      <td>10743</td>\n",
              "      <td>767</td>\n",
              "      <td>fantasy classics fiction young adult childrens...</td>\n",
              "      <td>9780066238500</td>\n",
              "      <td>['J.R.R. Tolkien 4-Book Boxed Set: The Hobbit ...</td>\n",
              "    </tr>\n",
              "  </tbody>\n",
              "</table>\n",
              "</div>\n",
              "      <button class=\"colab-df-convert\" onclick=\"convertToInteractive('df-72f612a1-33cb-44b9-b701-093ecad024aa')\"\n",
              "              title=\"Convert this dataframe to an interactive table.\"\n",
              "              style=\"display:none;\">\n",
              "        \n",
              "  <svg xmlns=\"http://www.w3.org/2000/svg\" height=\"24px\"viewBox=\"0 0 24 24\"\n",
              "       width=\"24px\">\n",
              "    <path d=\"M0 0h24v24H0V0z\" fill=\"none\"/>\n",
              "    <path d=\"M18.56 5.44l.94 2.06.94-2.06 2.06-.94-2.06-.94-.94-2.06-.94 2.06-2.06.94zm-11 1L8.5 8.5l.94-2.06 2.06-.94-2.06-.94L8.5 2.5l-.94 2.06-2.06.94zm10 10l.94 2.06.94-2.06 2.06-.94-2.06-.94-.94-2.06-.94 2.06-2.06.94z\"/><path d=\"M17.41 7.96l-1.37-1.37c-.4-.4-.92-.59-1.43-.59-.52 0-1.04.2-1.43.59L10.3 9.45l-7.72 7.72c-.78.78-.78 2.05 0 2.83L4 21.41c.39.39.9.59 1.41.59.51 0 1.02-.2 1.41-.59l7.78-7.78 2.81-2.81c.8-.78.8-2.07 0-2.86zM5.41 20L4 18.59l7.72-7.72 1.47 1.35L5.41 20z\"/>\n",
              "  </svg>\n",
              "      </button>\n",
              "      \n",
              "  <style>\n",
              "    .colab-df-container {\n",
              "      display:flex;\n",
              "      flex-wrap:wrap;\n",
              "      gap: 12px;\n",
              "    }\n",
              "\n",
              "    .colab-df-convert {\n",
              "      background-color: #E8F0FE;\n",
              "      border: none;\n",
              "      border-radius: 50%;\n",
              "      cursor: pointer;\n",
              "      display: none;\n",
              "      fill: #1967D2;\n",
              "      height: 32px;\n",
              "      padding: 0 0 0 0;\n",
              "      width: 32px;\n",
              "    }\n",
              "\n",
              "    .colab-df-convert:hover {\n",
              "      background-color: #E2EBFA;\n",
              "      box-shadow: 0px 1px 2px rgba(60, 64, 67, 0.3), 0px 1px 3px 1px rgba(60, 64, 67, 0.15);\n",
              "      fill: #174EA6;\n",
              "    }\n",
              "\n",
              "    [theme=dark] .colab-df-convert {\n",
              "      background-color: #3B4455;\n",
              "      fill: #D2E3FC;\n",
              "    }\n",
              "\n",
              "    [theme=dark] .colab-df-convert:hover {\n",
              "      background-color: #434B5C;\n",
              "      box-shadow: 0px 1px 3px 1px rgba(0, 0, 0, 0.15);\n",
              "      filter: drop-shadow(0px 1px 2px rgba(0, 0, 0, 0.3));\n",
              "      fill: #FFFFFF;\n",
              "    }\n",
              "  </style>\n",
              "\n",
              "      <script>\n",
              "        const buttonEl =\n",
              "          document.querySelector('#df-72f612a1-33cb-44b9-b701-093ecad024aa button.colab-df-convert');\n",
              "        buttonEl.style.display =\n",
              "          google.colab.kernel.accessAllowed ? 'block' : 'none';\n",
              "\n",
              "        async function convertToInteractive(key) {\n",
              "          const element = document.querySelector('#df-72f612a1-33cb-44b9-b701-093ecad024aa');\n",
              "          const dataTable =\n",
              "            await google.colab.kernel.invokeFunction('convertToInteractive',\n",
              "                                                     [key], {});\n",
              "          if (!dataTable) return;\n",
              "\n",
              "          const docLinkHtml = 'Like what you see? Visit the ' +\n",
              "            '<a target=\"_blank\" href=https://colab.research.google.com/notebooks/data_table.ipynb>data table notebook</a>'\n",
              "            + ' to learn more about interactive tables.';\n",
              "          element.innerHTML = '';\n",
              "          dataTable['output_type'] = 'display_data';\n",
              "          await google.colab.output.renderOutput(dataTable, element);\n",
              "          const docLink = document.createElement('div');\n",
              "          docLink.innerHTML = docLinkHtml;\n",
              "          element.appendChild(docLink);\n",
              "        }\n",
              "      </script>\n",
              "    </div>\n",
              "  </div>\n",
              "  "
            ]
          },
          "metadata": {},
          "execution_count": 5
        }
      ]
    },
    {
      "cell_type": "code",
      "source": [
        "data.info()"
      ],
      "metadata": {
        "colab": {
          "base_uri": "https://localhost:8080/"
        },
        "id": "iNrhAs31waOq",
        "outputId": "e16247ad-7651-4fc3-9502-a816deb9fc2b"
      },
      "execution_count": null,
      "outputs": [
        {
          "output_type": "stream",
          "name": "stdout",
          "text": [
            "<class 'pandas.core.frame.DataFrame'>\n",
            "RangeIndex: 8316 entries, 0 to 8315\n",
            "Data columns (total 12 columns):\n",
            " #   Column           Non-Null Count  Dtype  \n",
            "---  ------           --------------  -----  \n",
            " 0   url              8316 non-null   object \n",
            " 1   bookTitle        8316 non-null   object \n",
            " 2   bookImage        8316 non-null   object \n",
            " 3   bookAuthors      8316 non-null   object \n",
            " 4   bookDesc         8316 non-null   object \n",
            " 5   bookRating       8316 non-null   float64\n",
            " 6   ratingCount      8316 non-null   int64  \n",
            " 7   reviewCount      8316 non-null   int64  \n",
            " 8   bookPages        8316 non-null   int64  \n",
            " 9   bookGenres       8316 non-null   object \n",
            " 10  bookISBN         8316 non-null   int64  \n",
            " 11  recommendations  8316 non-null   object \n",
            "dtypes: float64(1), int64(4), object(7)\n",
            "memory usage: 779.8+ KB\n"
          ]
        }
      ]
    },
    {
      "cell_type": "code",
      "source": [
        "data.isnull().sum()"
      ],
      "metadata": {
        "colab": {
          "base_uri": "https://localhost:8080/"
        },
        "id": "tDxifXJlvJys",
        "outputId": "ec039af7-d69a-424e-bfa6-3286be174207"
      },
      "execution_count": null,
      "outputs": [
        {
          "output_type": "execute_result",
          "data": {
            "text/plain": [
              "url                0\n",
              "bookTitle          0\n",
              "bookImage          0\n",
              "bookAuthors        0\n",
              "bookDesc           0\n",
              "bookRating         0\n",
              "ratingCount        0\n",
              "reviewCount        0\n",
              "bookPages          0\n",
              "bookGenres         0\n",
              "bookISBN           0\n",
              "recommendations    0\n",
              "dtype: int64"
            ]
          },
          "metadata": {},
          "execution_count": 7
        }
      ]
    },
    {
      "cell_type": "markdown",
      "source": [
        "# search engine"
      ],
      "metadata": {
        "id": "K7LTVGswCqde"
      }
    },
    {
      "cell_type": "code",
      "source": [
        "from sklearn.feature_extraction.text import CountVectorizer, TfidfVectorizer\n",
        "vectorizer = TfidfVectorizer()\n",
        "\n",
        "tfidf = vectorizer.fit_transform(data['bookTitle'])"
      ],
      "metadata": {
        "id": "LGXopOpECzrb"
      },
      "execution_count": null,
      "outputs": []
    },
    {
      "cell_type": "code",
      "source": [
        "from sklearn.metrics.pairwise import cosine_similarity\n",
        "import numpy as np\n",
        "import re\n",
        "\n",
        "query = 'mortal instruments'\n",
        "processed = re.sub('[^a-zA-Z0-9 ]','',query.lower())\n",
        "query_vec = vectorizer.transform([processed])"
      ],
      "metadata": {
        "id": "HYRAvMAaDhLP"
      },
      "execution_count": null,
      "outputs": []
    },
    {
      "cell_type": "code",
      "source": [
        "similarity = cosine_similarity(query_vec, tfidf).flatten()\n",
        "similarity"
      ],
      "metadata": {
        "colab": {
          "base_uri": "https://localhost:8080/"
        },
        "id": "OKnAlAQEEWNr",
        "outputId": "f88f3132-5c9d-4678-895c-a5fec8c9d7a1"
      },
      "execution_count": null,
      "outputs": [
        {
          "output_type": "execute_result",
          "data": {
            "text/plain": [
              "array([0., 0., 0., ..., 0., 0., 0.])"
            ]
          },
          "metadata": {},
          "execution_count": 10
        }
      ]
    },
    {
      "cell_type": "code",
      "source": [
        "indices = np.argsort(-similarity)\n",
        "result = data.iloc[indices]\n",
        "result.head(5)"
      ],
      "metadata": {
        "colab": {
          "base_uri": "https://localhost:8080/",
          "height": 652
        },
        "id": "wow7OCtOEcUB",
        "outputId": "29d41ee5-89b9-4452-aedc-e99fef2ba444"
      },
      "execution_count": null,
      "outputs": [
        {
          "output_type": "execute_result",
          "data": {
            "text/plain": [
              "                                                    url  \\\n",
              "3109  https://www.goodreads.com/book/show/11106458-t...   \n",
              "7096  https://www.goodreads.com/book/show/20522640-m...   \n",
              "3050  https://www.goodreads.com/book/show/8113344-mo...   \n",
              "3260  https://www.goodreads.com/book/show/287861.Mor...   \n",
              "415   https://www.goodreads.com/book/show/6485421-th...   \n",
              "\n",
              "                                              bookTitle  \\\n",
              "3109                             the mortal instruments   \n",
              "7096                                       mortal heart   \n",
              "3050                                        mortal coil   \n",
              "3260                                     mortal engines   \n",
              "415   the mortal instruments boxed set city of bones...   \n",
              "\n",
              "                                              bookImage      bookAuthors  \\\n",
              "3109  https://i.gr-assets.com/images/S/compressed.ph...  cassandra clare   \n",
              "7096  https://i.gr-assets.com/images/S/compressed.ph...   robin lafevers   \n",
              "3050  https://i.gr-assets.com/images/S/compressed.ph...      derek landy   \n",
              "3260  https://i.gr-assets.com/images/S/compressed.ph...     philip reeve   \n",
              "415   https://i.gr-assets.com/images/S/compressed.ph...  cassandra clare   \n",
              "\n",
              "                                               bookDesc  bookRating  \\\n",
              "3109  The Shadowhunters—touched by angels and charge...        4.57   \n",
              "7096  Annith has watched her gifted sisters at the c...        4.11   \n",
              "3050  Following the shocking revelations of DARK DAY...        4.47   \n",
              "3260  \"It was a dark, blustery afternoon in spring, ...        3.77   \n",
              "415   In City of Bones, fifteen-year-old Clary Fray ...        4.56   \n",
              "\n",
              "      ratingCount  reviewCount  bookPages  \\\n",
              "3109        16639          394       1952   \n",
              "7096        22529         2600        444   \n",
              "3050        17163          687        604   \n",
              "3260        53687         5423        326   \n",
              "415         65587         1093       1520   \n",
              "\n",
              "                                             bookGenres       bookISBN  \\\n",
              "3109  fantasy young adult romance fantasy paranormal...  9781442440432   \n",
              "7096  fantasy young adult romance historical fiction...  9780547628400   \n",
              "3050  fantasy young adult fantasy urban fantasy fant...  9780007325986   \n",
              "3260  fantasy young adult science fiction steampunk ...  9780060082093   \n",
              "415   fantasy young adult fantasy paranormal romance...  9781416997856   \n",
              "\n",
              "                                        recommendations  \n",
              "3109  ['Vampire Academy Collection (Vampire Academy,...  \n",
              "7096  ['The Shadows Between Us|https://www.goodreads...  \n",
              "3050  ['Future Friend|https://www.goodreads.com/book...  \n",
              "3260  ['Хроники хищных городов. Книга 3. Адские конс...  \n",
              "415   ['The Twilight Saga Complete Collection  (Twil...  "
            ],
            "text/html": [
              "\n",
              "  <div id=\"df-12532efa-ec0a-49f1-9df9-0c07ebc6e4ea\">\n",
              "    <div class=\"colab-df-container\">\n",
              "      <div>\n",
              "<style scoped>\n",
              "    .dataframe tbody tr th:only-of-type {\n",
              "        vertical-align: middle;\n",
              "    }\n",
              "\n",
              "    .dataframe tbody tr th {\n",
              "        vertical-align: top;\n",
              "    }\n",
              "\n",
              "    .dataframe thead th {\n",
              "        text-align: right;\n",
              "    }\n",
              "</style>\n",
              "<table border=\"1\" class=\"dataframe\">\n",
              "  <thead>\n",
              "    <tr style=\"text-align: right;\">\n",
              "      <th></th>\n",
              "      <th>url</th>\n",
              "      <th>bookTitle</th>\n",
              "      <th>bookImage</th>\n",
              "      <th>bookAuthors</th>\n",
              "      <th>bookDesc</th>\n",
              "      <th>bookRating</th>\n",
              "      <th>ratingCount</th>\n",
              "      <th>reviewCount</th>\n",
              "      <th>bookPages</th>\n",
              "      <th>bookGenres</th>\n",
              "      <th>bookISBN</th>\n",
              "      <th>recommendations</th>\n",
              "    </tr>\n",
              "  </thead>\n",
              "  <tbody>\n",
              "    <tr>\n",
              "      <th>3109</th>\n",
              "      <td>https://www.goodreads.com/book/show/11106458-t...</td>\n",
              "      <td>the mortal instruments</td>\n",
              "      <td>https://i.gr-assets.com/images/S/compressed.ph...</td>\n",
              "      <td>cassandra clare</td>\n",
              "      <td>The Shadowhunters—touched by angels and charge...</td>\n",
              "      <td>4.57</td>\n",
              "      <td>16639</td>\n",
              "      <td>394</td>\n",
              "      <td>1952</td>\n",
              "      <td>fantasy young adult romance fantasy paranormal...</td>\n",
              "      <td>9781442440432</td>\n",
              "      <td>['Vampire Academy Collection (Vampire Academy,...</td>\n",
              "    </tr>\n",
              "    <tr>\n",
              "      <th>7096</th>\n",
              "      <td>https://www.goodreads.com/book/show/20522640-m...</td>\n",
              "      <td>mortal heart</td>\n",
              "      <td>https://i.gr-assets.com/images/S/compressed.ph...</td>\n",
              "      <td>robin lafevers</td>\n",
              "      <td>Annith has watched her gifted sisters at the c...</td>\n",
              "      <td>4.11</td>\n",
              "      <td>22529</td>\n",
              "      <td>2600</td>\n",
              "      <td>444</td>\n",
              "      <td>fantasy young adult romance historical fiction...</td>\n",
              "      <td>9780547628400</td>\n",
              "      <td>['The Shadows Between Us|https://www.goodreads...</td>\n",
              "    </tr>\n",
              "    <tr>\n",
              "      <th>3050</th>\n",
              "      <td>https://www.goodreads.com/book/show/8113344-mo...</td>\n",
              "      <td>mortal coil</td>\n",
              "      <td>https://i.gr-assets.com/images/S/compressed.ph...</td>\n",
              "      <td>derek landy</td>\n",
              "      <td>Following the shocking revelations of DARK DAY...</td>\n",
              "      <td>4.47</td>\n",
              "      <td>17163</td>\n",
              "      <td>687</td>\n",
              "      <td>604</td>\n",
              "      <td>fantasy young adult fantasy urban fantasy fant...</td>\n",
              "      <td>9780007325986</td>\n",
              "      <td>['Future Friend|https://www.goodreads.com/book...</td>\n",
              "    </tr>\n",
              "    <tr>\n",
              "      <th>3260</th>\n",
              "      <td>https://www.goodreads.com/book/show/287861.Mor...</td>\n",
              "      <td>mortal engines</td>\n",
              "      <td>https://i.gr-assets.com/images/S/compressed.ph...</td>\n",
              "      <td>philip reeve</td>\n",
              "      <td>\"It was a dark, blustery afternoon in spring, ...</td>\n",
              "      <td>3.77</td>\n",
              "      <td>53687</td>\n",
              "      <td>5423</td>\n",
              "      <td>326</td>\n",
              "      <td>fantasy young adult science fiction steampunk ...</td>\n",
              "      <td>9780060082093</td>\n",
              "      <td>['Хроники хищных городов. Книга 3. Адские конс...</td>\n",
              "    </tr>\n",
              "    <tr>\n",
              "      <th>415</th>\n",
              "      <td>https://www.goodreads.com/book/show/6485421-th...</td>\n",
              "      <td>the mortal instruments boxed set city of bones...</td>\n",
              "      <td>https://i.gr-assets.com/images/S/compressed.ph...</td>\n",
              "      <td>cassandra clare</td>\n",
              "      <td>In City of Bones, fifteen-year-old Clary Fray ...</td>\n",
              "      <td>4.56</td>\n",
              "      <td>65587</td>\n",
              "      <td>1093</td>\n",
              "      <td>1520</td>\n",
              "      <td>fantasy young adult fantasy paranormal romance...</td>\n",
              "      <td>9781416997856</td>\n",
              "      <td>['The Twilight Saga Complete Collection  (Twil...</td>\n",
              "    </tr>\n",
              "  </tbody>\n",
              "</table>\n",
              "</div>\n",
              "      <button class=\"colab-df-convert\" onclick=\"convertToInteractive('df-12532efa-ec0a-49f1-9df9-0c07ebc6e4ea')\"\n",
              "              title=\"Convert this dataframe to an interactive table.\"\n",
              "              style=\"display:none;\">\n",
              "        \n",
              "  <svg xmlns=\"http://www.w3.org/2000/svg\" height=\"24px\"viewBox=\"0 0 24 24\"\n",
              "       width=\"24px\">\n",
              "    <path d=\"M0 0h24v24H0V0z\" fill=\"none\"/>\n",
              "    <path d=\"M18.56 5.44l.94 2.06.94-2.06 2.06-.94-2.06-.94-.94-2.06-.94 2.06-2.06.94zm-11 1L8.5 8.5l.94-2.06 2.06-.94-2.06-.94L8.5 2.5l-.94 2.06-2.06.94zm10 10l.94 2.06.94-2.06 2.06-.94-2.06-.94-.94-2.06-.94 2.06-2.06.94z\"/><path d=\"M17.41 7.96l-1.37-1.37c-.4-.4-.92-.59-1.43-.59-.52 0-1.04.2-1.43.59L10.3 9.45l-7.72 7.72c-.78.78-.78 2.05 0 2.83L4 21.41c.39.39.9.59 1.41.59.51 0 1.02-.2 1.41-.59l7.78-7.78 2.81-2.81c.8-.78.8-2.07 0-2.86zM5.41 20L4 18.59l7.72-7.72 1.47 1.35L5.41 20z\"/>\n",
              "  </svg>\n",
              "      </button>\n",
              "      \n",
              "  <style>\n",
              "    .colab-df-container {\n",
              "      display:flex;\n",
              "      flex-wrap:wrap;\n",
              "      gap: 12px;\n",
              "    }\n",
              "\n",
              "    .colab-df-convert {\n",
              "      background-color: #E8F0FE;\n",
              "      border: none;\n",
              "      border-radius: 50%;\n",
              "      cursor: pointer;\n",
              "      display: none;\n",
              "      fill: #1967D2;\n",
              "      height: 32px;\n",
              "      padding: 0 0 0 0;\n",
              "      width: 32px;\n",
              "    }\n",
              "\n",
              "    .colab-df-convert:hover {\n",
              "      background-color: #E2EBFA;\n",
              "      box-shadow: 0px 1px 2px rgba(60, 64, 67, 0.3), 0px 1px 3px 1px rgba(60, 64, 67, 0.15);\n",
              "      fill: #174EA6;\n",
              "    }\n",
              "\n",
              "    [theme=dark] .colab-df-convert {\n",
              "      background-color: #3B4455;\n",
              "      fill: #D2E3FC;\n",
              "    }\n",
              "\n",
              "    [theme=dark] .colab-df-convert:hover {\n",
              "      background-color: #434B5C;\n",
              "      box-shadow: 0px 1px 3px 1px rgba(0, 0, 0, 0.15);\n",
              "      filter: drop-shadow(0px 1px 2px rgba(0, 0, 0, 0.3));\n",
              "      fill: #FFFFFF;\n",
              "    }\n",
              "  </style>\n",
              "\n",
              "      <script>\n",
              "        const buttonEl =\n",
              "          document.querySelector('#df-12532efa-ec0a-49f1-9df9-0c07ebc6e4ea button.colab-df-convert');\n",
              "        buttonEl.style.display =\n",
              "          google.colab.kernel.accessAllowed ? 'block' : 'none';\n",
              "\n",
              "        async function convertToInteractive(key) {\n",
              "          const element = document.querySelector('#df-12532efa-ec0a-49f1-9df9-0c07ebc6e4ea');\n",
              "          const dataTable =\n",
              "            await google.colab.kernel.invokeFunction('convertToInteractive',\n",
              "                                                     [key], {});\n",
              "          if (!dataTable) return;\n",
              "\n",
              "          const docLinkHtml = 'Like what you see? Visit the ' +\n",
              "            '<a target=\"_blank\" href=https://colab.research.google.com/notebooks/data_table.ipynb>data table notebook</a>'\n",
              "            + ' to learn more about interactive tables.';\n",
              "          element.innerHTML = '';\n",
              "          dataTable['output_type'] = 'display_data';\n",
              "          await google.colab.output.renderOutput(dataTable, element);\n",
              "          const docLink = document.createElement('div');\n",
              "          docLink.innerHTML = docLinkHtml;\n",
              "          element.appendChild(docLink);\n",
              "        }\n",
              "      </script>\n",
              "    </div>\n",
              "  </div>\n",
              "  "
            ]
          },
          "metadata": {},
          "execution_count": 11
        }
      ]
    },
    {
      "cell_type": "code",
      "source": [
        "data.keys()"
      ],
      "metadata": {
        "colab": {
          "base_uri": "https://localhost:8080/"
        },
        "id": "IzHcAC4_jjc7",
        "outputId": "7cc0d66a-520c-4d03-8d70-3217d54a0d69"
      },
      "execution_count": null,
      "outputs": [
        {
          "output_type": "execute_result",
          "data": {
            "text/plain": [
              "Index(['url', 'bookTitle', 'bookImage', 'bookAuthors', 'bookDesc',\n",
              "       'bookRating', 'ratingCount', 'reviewCount', 'bookPages', 'bookGenres',\n",
              "       'bookISBN', 'recommendations'],\n",
              "      dtype='object')"
            ]
          },
          "metadata": {},
          "execution_count": 12
        }
      ]
    },
    {
      "cell_type": "markdown",
      "source": [
        "#recommender system"
      ],
      "metadata": {
        "id": "YX4NLGXOwNd_"
      }
    },
    {
      "cell_type": "code",
      "source": [
        "import os\n",
        "import re\n",
        "import nltk\n",
        "import requests\n",
        "import warnings\n",
        "import pandas as pd\n",
        "import numpy as np\n",
        "import matplotlib.pyplot as plt\n",
        "%matplotlib inline"
      ],
      "metadata": {
        "id": "uG4T17L4cRaS"
      },
      "execution_count": null,
      "outputs": []
    },
    {
      "cell_type": "markdown",
      "source": [
        "Item-Based Collaborative Filtering"
      ],
      "metadata": {
        "id": "XSQ6tc6Pfjto"
      }
    },
    {
      "cell_type": "code",
      "source": [
        "def item_based_recommender(bookTitle):\n",
        "    \n",
        "    bookTitle = str(bookTitle)\n",
        "    if bookTitle in data['bookTitle'].values:\n",
        "    \n",
        "        rating_counts = data['ratingCount']\n",
        "        rare_books = rating_counts[rating_counts['bookTitle'] <= 180].index\n",
        "        common_books = data[~data['bookTitle'].isin(rare_books)]\n",
        "        \n",
        "        if bookTitle in rare_books:\n",
        "            \n",
        "            random = pd.Series(common_books['bookTitle'].unique()).sample(2).values\n",
        "            print('There are no recommendations for this book')\n",
        "            print('Try: \\n')\n",
        "            print('{}'.format(random[0]),'\\n')\n",
        "            print('{}'.format(random[1]),'\\n')\n",
        "        \n",
        "        else:\n",
        "            user_book_data = common_books.pivot_table(index,columns=['bookTitle'],values='rating')\n",
        "        \n",
        "            book = user_book_data[bookTitle]\n",
        "            recom_data = pd.DataFrame(user_book_data.corrwith(book). \\\n",
        "                                      sort_values(ascending=False)).reset_index(drop=False)\n",
        "            \n",
        "            if bookTitle in [book for book in recom_data['bookTitle']]:\n",
        "                recom_data = recom_data.drop(recom_data[recom_data['bookTitle'] == bookTitle].index[0])\n",
        "                \n",
        "            low_rating = []\n",
        "            for i in recom_data['bookTitle']:\n",
        "                if data[data['bookTitle'] == i]['rating'].mean() < 5:\n",
        "                    low_rating.append(i)\n",
        "                    \n",
        "            if recom_data.shape[0] - len(low_rating) > 5:\n",
        "                recom_data = recom_data[~recom_data['bookTitle'].isin(low_rating)]\n",
        "            \n",
        "            recom_data = recom_data[0:5]    \n",
        "            recom_data.columns = ['bookTitle','corr']\n",
        "            \n",
        "            fig, axs = plt.subplots(1, 5,figsize=(18,5))\n",
        "            fig.suptitle('You may also like these books', size = 22)\n",
        "            for i in range(len(recom_data['bookTitle'].tolist())):\n",
        "        \n",
        "                url = books.loc[books['bookTitle'] == recom_data['bookTitle'].tolist()[i],'img_l'][:1].values[0]\n",
        "                im = Image.open(requests.get(url, stream=True).raw)\n",
        "                axs[i].imshow(im)\n",
        "                axs[i].axis(\"off\")\n",
        "                axs[i].set_title('Rating: {}'.format(round(data[data['bookTitle'] == recom_data['bookTitle'].tolist()[i]]['rating'].mean(),1)),\n",
        "                             y=-0.18,\n",
        "                                 color=\"red\",\n",
        "                                 fontsize=18)\n",
        "                fig.show()\n",
        "    else:\n",
        "        print('Cant find book in dataset, please check spelling')"
      ],
      "metadata": {
        "id": "6a7VE2GjwWxk"
      },
      "execution_count": null,
      "outputs": []
    },
    {
      "cell_type": "code",
      "source": [
        "rating_counts = data['ratingCount']\n",
        "rating_counts"
      ],
      "metadata": {
        "id": "HRUKujugptiW"
      },
      "execution_count": null,
      "outputs": []
    },
    {
      "cell_type": "code",
      "source": [
        ""
      ],
      "metadata": {
        "id": "O_KRm49nsDm2"
      },
      "execution_count": null,
      "outputs": []
    }
  ]
}