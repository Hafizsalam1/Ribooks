{
  "nbformat": 4,
  "nbformat_minor": 0,
  "metadata": {
    "colab": {
      "name": "Exploring dataset.ipynb",
      "provenance": []
    },
    "kernelspec": {
      "name": "python3",
      "display_name": "Python 3"
    },
    "language_info": {
      "name": "python"
    }
  },
  "cells": [
    {
      "cell_type": "markdown",
      "source": [
        "Istall Library kaggle"
      ],
      "metadata": {
        "id": "ZEexiHxpXh_W"
      }
    },
    {
      "cell_type": "code",
      "execution_count": null,
      "metadata": {
        "colab": {
          "base_uri": "https://localhost:8080/"
        },
        "id": "m3lx3HB5UX4G",
        "outputId": "dcb20b71-4316-4db0-be23-3cbd00493df6"
      },
      "outputs": [
        {
          "output_type": "stream",
          "name": "stdout",
          "text": [
            "Requirement already satisfied: kaggle in /usr/local/lib/python3.7/dist-packages (1.5.12)\n",
            "Requirement already satisfied: six>=1.10 in /usr/local/lib/python3.7/dist-packages (from kaggle) (1.15.0)\n",
            "Requirement already satisfied: requests in /usr/local/lib/python3.7/dist-packages (from kaggle) (2.23.0)\n",
            "Requirement already satisfied: python-dateutil in /usr/local/lib/python3.7/dist-packages (from kaggle) (2.8.2)\n",
            "Requirement already satisfied: certifi in /usr/local/lib/python3.7/dist-packages (from kaggle) (2021.10.8)\n",
            "Requirement already satisfied: urllib3 in /usr/local/lib/python3.7/dist-packages (from kaggle) (1.24.3)\n",
            "Requirement already satisfied: python-slugify in /usr/local/lib/python3.7/dist-packages (from kaggle) (6.1.2)\n",
            "Requirement already satisfied: tqdm in /usr/local/lib/python3.7/dist-packages (from kaggle) (4.64.0)\n",
            "Requirement already satisfied: text-unidecode>=1.3 in /usr/local/lib/python3.7/dist-packages (from python-slugify->kaggle) (1.3)\n",
            "Requirement already satisfied: idna<3,>=2.5 in /usr/local/lib/python3.7/dist-packages (from requests->kaggle) (2.10)\n",
            "Requirement already satisfied: chardet<4,>=3.0.2 in /usr/local/lib/python3.7/dist-packages (from requests->kaggle) (3.0.4)\n"
          ]
        }
      ],
      "source": [
        "! pip install kaggle"
      ]
    },
    {
      "cell_type": "code",
      "source": [
        "import pandas as pd \n",
        "import numpy as np \n",
        "import matplotlib.pyplot as plt \n",
        "import seaborn as sns\n",
        "\n",
        "import random\n",
        "from sklearn.model_selection import train_test_split, RandomizedSearchCV, GridSearchCV\n",
        "from sklearn.preprocessing import StandardScaler, Normalizer, MinMaxScaler, RobustScaler\n",
        "from sklearn.metrics import accuracy_score, classification_report, f1_score, confusion_matrix, precision_score, recall_score\n",
        "\n",
        "import pandas\n",
        "from sklearn.model_selection import cross_val_score, cross_val_predict\n",
        "from sklearn.preprocessing import LabelEncoder\n",
        "from sklearn.model_selection import StratifiedKFold\n",
        "from sklearn.preprocessing import StandardScaler\n",
        "from sklearn.pipeline import Pipeline\n",
        "from sklearn.tree import DecisionTreeClassifier\n",
        "from sklearn.ensemble import RandomForestClassifier\n",
        "from sklearn.model_selection import KFold\n",
        "from sklearn.neighbors import KNeighborsClassifier"
      ],
      "metadata": {
        "id": "42QpkTnUWMac"
      },
      "execution_count": null,
      "outputs": []
    },
    {
      "cell_type": "markdown",
      "source": [
        "buat direktori baru"
      ],
      "metadata": {
        "id": "Pnodor3jX9_4"
      }
    },
    {
      "cell_type": "code",
      "source": [
        "! mkdir ~/.kaggle"
      ],
      "metadata": {
        "id": "45ItLG7vXERo"
      },
      "execution_count": null,
      "outputs": []
    },
    {
      "cell_type": "markdown",
      "source": [
        "Copy file.jason ke direktori baru"
      ],
      "metadata": {
        "id": "_ssRR2koYCGg"
      }
    },
    {
      "cell_type": "code",
      "source": [
        "! cp kaggle.json ~/.kaggle/"
      ],
      "metadata": {
        "id": "6u1qc-QCXKjp"
      },
      "execution_count": null,
      "outputs": []
    },
    {
      "cell_type": "markdown",
      "source": [
        "Ubah izin file"
      ],
      "metadata": {
        "id": "DY_VUwawYO6O"
      }
    },
    {
      "cell_type": "code",
      "source": [
        "! chmod 600 ~/.kaggle/kaggle.json"
      ],
      "metadata": {
        "id": "62els_fMXPwW"
      },
      "execution_count": null,
      "outputs": []
    },
    {
      "cell_type": "markdown",
      "source": [
        "DOWNLOAD DATASET"
      ],
      "metadata": {
        "id": "vUZoiAecYXn4"
      }
    },
    {
      "cell_type": "code",
      "source": [
        "! kaggle datasets download nguyenphd/goodreads-best-books-ever-with-recommendations\n"
      ],
      "metadata": {
        "colab": {
          "base_uri": "https://localhost:8080/"
        },
        "id": "lEf2RkloXeLP",
        "outputId": "89c2212e-c527-42ad-eda2-91249ebdd108"
      },
      "execution_count": null,
      "outputs": [
        {
          "output_type": "stream",
          "name": "stdout",
          "text": [
            "Downloading goodreads-best-books-ever-with-recommendations.zip to /content\n",
            "\r  0% 0.00/10.3M [00:00<?, ?B/s]\n",
            "\r100% 10.3M/10.3M [00:00<00:00, 115MB/s]\n"
          ]
        }
      ]
    },
    {
      "cell_type": "markdown",
      "source": [
        "Unzip"
      ],
      "metadata": {
        "id": "1VDCvgDzZ4Dx"
      }
    },
    {
      "cell_type": "code",
      "source": [
        "! unzip /content/goodreads-best-books-ever-with-recommendations.zip\n"
      ],
      "metadata": {
        "colab": {
          "base_uri": "https://localhost:8080/"
        },
        "id": "SzDNnttNZ28y",
        "outputId": "18abe86e-06ac-48cc-8bca-b6a34242a4c6"
      },
      "execution_count": null,
      "outputs": [
        {
          "output_type": "stream",
          "name": "stdout",
          "text": [
            "Archive:  /content/goodreads-best-books-ever-with-recommendations.zip\n",
            "  inflating: Goodreads_BestBooksEver_1-10000.csv  \n"
          ]
        }
      ]
    },
    {
      "cell_type": "markdown",
      "source": [
        "Memeriksa data"
      ],
      "metadata": {
        "id": "LPUsF64XaHDa"
      }
    },
    {
      "cell_type": "code",
      "source": [
        "data = pd.read_csv('/content/Goodreads_BestBooksEver_1-10000.csv', index_col=False)\n",
        "data.head(10)"
      ],
      "metadata": {
        "colab": {
          "base_uri": "https://localhost:8080/",
          "height": 844
        },
        "id": "vPSyWAimaOnI",
        "outputId": "e1193cb1-98d3-4e46-e003-9df0167ef1da"
      },
      "execution_count": null,
      "outputs": [
        {
          "output_type": "execute_result",
          "data": {
            "text/plain": [
              "                                                 url  \\\n",
              "0  https://www.goodreads.com/book/show/2767052-th...   \n",
              "1  https://www.goodreads.com/book/show/2.Harry_Po...   \n",
              "2  https://www.goodreads.com/book/show/2657.To_Ki...   \n",
              "3  https://www.goodreads.com/book/show/1885.Pride...   \n",
              "4  https://www.goodreads.com/book/show/41865.Twil...   \n",
              "5  https://www.goodreads.com/book/show/19063.The_...   \n",
              "6  https://www.goodreads.com/book/show/7613.Anima...   \n",
              "7  https://www.goodreads.com/book/show/11127.The_...   \n",
              "8  https://www.goodreads.com/book/show/30.J_R_R_T...   \n",
              "9  https://www.goodreads.com/book/show/18405.Gone...   \n",
              "\n",
              "                                           bookTitle  \\\n",
              "0                                   The Hunger Games   \n",
              "1          Harry Potter and the Order of the Phoenix   \n",
              "2                              To Kill a Mockingbird   \n",
              "3                                Pride and Prejudice   \n",
              "4                                           Twilight   \n",
              "5                                     The Book Thief   \n",
              "6                                        Animal Farm   \n",
              "7                           The Chronicles of Narnia   \n",
              "8  J.R.R. Tolkien 4-Book Boxed Set: The Hobbit an...   \n",
              "9                                 Gone with the Wind   \n",
              "\n",
              "                                           bookImage  \\\n",
              "0  https://i.gr-assets.com/images/S/compressed.ph...   \n",
              "1  https://i.gr-assets.com/images/S/compressed.ph...   \n",
              "2  https://i.gr-assets.com/images/S/compressed.ph...   \n",
              "3  https://i.gr-assets.com/images/S/compressed.ph...   \n",
              "4  https://i.gr-assets.com/images/S/compressed.ph...   \n",
              "5  https://i.gr-assets.com/images/S/compressed.ph...   \n",
              "6  https://i.gr-assets.com/images/S/compressed.ph...   \n",
              "7  https://i.gr-assets.com/images/S/compressed.ph...   \n",
              "8  https://i.gr-assets.com/images/S/compressed.ph...   \n",
              "9  https://i.gr-assets.com/images/S/compressed.ph...   \n",
              "\n",
              "                                         bookAuthors  \\\n",
              "0                                    Suzanne Collins   \n",
              "1                         J.K. Rowling,Mary GrandPré   \n",
              "2                                         Harper Lee   \n",
              "3                          Jane Austen,Anna Quindlen   \n",
              "4                                    Stephenie Meyer   \n",
              "5                                       Markus Zusak   \n",
              "6  George Orwell,Boris Grabnar,Celâl Üster,Celâl ...   \n",
              "7                          C.S. Lewis,Pauline Baynes   \n",
              "8                                     J.R.R. Tolkien   \n",
              "9                                  Margaret Mitchell   \n",
              "\n",
              "                                            bookDesc  bookRating  ratingCount  \\\n",
              "0  Could you survive on your own in the wild, wit...        4.32      6717635   \n",
              "1  There is a door at the end of a silent corrido...        4.50      2668409   \n",
              "2  The unforgettable novel of a childhood in a sl...        4.28      4772918   \n",
              "3  Alternate cover edition of ISBN 9780679783268S...        4.27      3206070   \n",
              "4  About three things I was absolutely positive.F...        3.61      5231000   \n",
              "5  Librarian's note: An alternate cover edition c...        4.38      1954165   \n",
              "6  George Orwell's timeless and timely allegorica...        3.96      2926888   \n",
              "7  Librarian note: An alternate cover for this ed...        4.26       548649   \n",
              "8  This four-volume, boxed set contains J.R.R. To...        4.60       115027   \n",
              "9  Scarlett O'Hara, the beautiful, spoiled daught...        4.30      1106466   \n",
              "\n",
              "   reviewCount   bookPages                                         bookGenres  \\\n",
              "0       176054   374 pages  Young Adult/31,498|Fiction/17,878|Science Fict...   \n",
              "1        45724   870 pages  Fantasy/1,797|Young Adult/15,961|Fiction/14,15...   \n",
              "2        95595   324 pages  Classics/47,203|Fiction/23,575|Historical-Hist...   \n",
              "3        74020   279 pages  Classics/52,699|Fiction/15,730|Romance/12,874|...   \n",
              "4       107619   501 pages  Young Adult/19,982|Fantasy/19,312|Romance/12,0...   \n",
              "5       117307   552 pages  Historical-Historical Fiction/20,161|Fiction/1...   \n",
              "6        61574   122 pages  Classics/34,158|Fiction/19,552|Science Fiction...   \n",
              "7        10743   767 pages  Fantasy/11,823|Classics/4,396|Fiction/3,903|Yo...   \n",
              "8         1863  1728 pages  Fantasy/2,291|Fiction/670|Classics/587|Adventu...   \n",
              "9        20591  1037 pages  Classics/13,899|Historical-Historical Fiction/...   \n",
              "\n",
              "       bookISBN                                    recommendations  \n",
              "0  9.780439e+12  ['Divergent (Divergent, #1)|https://www.goodre...  \n",
              "1           NaN  ['Harry Potter and the Cursed Child: Parts One...  \n",
              "2           NaN  ['The Great Gatsby|https://www.goodreads.com/b...  \n",
              "3           NaN  ['Jane Eyre|https://www.goodreads.com/book/sho...  \n",
              "4  9.780316e+12  ['The Hunger Games (The Hunger Games, #1)|http...  \n",
              "5  9.780376e+12  ['All the Light We Cannot See|https://www.good...  \n",
              "6  9.780452e+12  ['The Great Gatsby|https://www.goodreads.com/b...  \n",
              "7  9.780066e+12  ['J.R.R. Tolkien 4-Book Boxed Set: The Hobbit ...  \n",
              "8  9.780346e+12  ['The Chronicles of Narnia (Chronicles of Narn...  \n",
              "9  9.780447e+12  ['Scarlett|https://www.goodreads.com/book/show...  "
            ],
            "text/html": [
              "\n",
              "  <div id=\"df-a883333c-a1a4-4b2b-a8c0-a702046f52ba\">\n",
              "    <div class=\"colab-df-container\">\n",
              "      <div>\n",
              "<style scoped>\n",
              "    .dataframe tbody tr th:only-of-type {\n",
              "        vertical-align: middle;\n",
              "    }\n",
              "\n",
              "    .dataframe tbody tr th {\n",
              "        vertical-align: top;\n",
              "    }\n",
              "\n",
              "    .dataframe thead th {\n",
              "        text-align: right;\n",
              "    }\n",
              "</style>\n",
              "<table border=\"1\" class=\"dataframe\">\n",
              "  <thead>\n",
              "    <tr style=\"text-align: right;\">\n",
              "      <th></th>\n",
              "      <th>url</th>\n",
              "      <th>bookTitle</th>\n",
              "      <th>bookImage</th>\n",
              "      <th>bookAuthors</th>\n",
              "      <th>bookDesc</th>\n",
              "      <th>bookRating</th>\n",
              "      <th>ratingCount</th>\n",
              "      <th>reviewCount</th>\n",
              "      <th>bookPages</th>\n",
              "      <th>bookGenres</th>\n",
              "      <th>bookISBN</th>\n",
              "      <th>recommendations</th>\n",
              "    </tr>\n",
              "  </thead>\n",
              "  <tbody>\n",
              "    <tr>\n",
              "      <th>0</th>\n",
              "      <td>https://www.goodreads.com/book/show/2767052-th...</td>\n",
              "      <td>The Hunger Games</td>\n",
              "      <td>https://i.gr-assets.com/images/S/compressed.ph...</td>\n",
              "      <td>Suzanne Collins</td>\n",
              "      <td>Could you survive on your own in the wild, wit...</td>\n",
              "      <td>4.32</td>\n",
              "      <td>6717635</td>\n",
              "      <td>176054</td>\n",
              "      <td>374 pages</td>\n",
              "      <td>Young Adult/31,498|Fiction/17,878|Science Fict...</td>\n",
              "      <td>9.780439e+12</td>\n",
              "      <td>['Divergent (Divergent, #1)|https://www.goodre...</td>\n",
              "    </tr>\n",
              "    <tr>\n",
              "      <th>1</th>\n",
              "      <td>https://www.goodreads.com/book/show/2.Harry_Po...</td>\n",
              "      <td>Harry Potter and the Order of the Phoenix</td>\n",
              "      <td>https://i.gr-assets.com/images/S/compressed.ph...</td>\n",
              "      <td>J.K. Rowling,Mary GrandPré</td>\n",
              "      <td>There is a door at the end of a silent corrido...</td>\n",
              "      <td>4.50</td>\n",
              "      <td>2668409</td>\n",
              "      <td>45724</td>\n",
              "      <td>870 pages</td>\n",
              "      <td>Fantasy/1,797|Young Adult/15,961|Fiction/14,15...</td>\n",
              "      <td>NaN</td>\n",
              "      <td>['Harry Potter and the Cursed Child: Parts One...</td>\n",
              "    </tr>\n",
              "    <tr>\n",
              "      <th>2</th>\n",
              "      <td>https://www.goodreads.com/book/show/2657.To_Ki...</td>\n",
              "      <td>To Kill a Mockingbird</td>\n",
              "      <td>https://i.gr-assets.com/images/S/compressed.ph...</td>\n",
              "      <td>Harper Lee</td>\n",
              "      <td>The unforgettable novel of a childhood in a sl...</td>\n",
              "      <td>4.28</td>\n",
              "      <td>4772918</td>\n",
              "      <td>95595</td>\n",
              "      <td>324 pages</td>\n",
              "      <td>Classics/47,203|Fiction/23,575|Historical-Hist...</td>\n",
              "      <td>NaN</td>\n",
              "      <td>['The Great Gatsby|https://www.goodreads.com/b...</td>\n",
              "    </tr>\n",
              "    <tr>\n",
              "      <th>3</th>\n",
              "      <td>https://www.goodreads.com/book/show/1885.Pride...</td>\n",
              "      <td>Pride and Prejudice</td>\n",
              "      <td>https://i.gr-assets.com/images/S/compressed.ph...</td>\n",
              "      <td>Jane Austen,Anna Quindlen</td>\n",
              "      <td>Alternate cover edition of ISBN 9780679783268S...</td>\n",
              "      <td>4.27</td>\n",
              "      <td>3206070</td>\n",
              "      <td>74020</td>\n",
              "      <td>279 pages</td>\n",
              "      <td>Classics/52,699|Fiction/15,730|Romance/12,874|...</td>\n",
              "      <td>NaN</td>\n",
              "      <td>['Jane Eyre|https://www.goodreads.com/book/sho...</td>\n",
              "    </tr>\n",
              "    <tr>\n",
              "      <th>4</th>\n",
              "      <td>https://www.goodreads.com/book/show/41865.Twil...</td>\n",
              "      <td>Twilight</td>\n",
              "      <td>https://i.gr-assets.com/images/S/compressed.ph...</td>\n",
              "      <td>Stephenie Meyer</td>\n",
              "      <td>About three things I was absolutely positive.F...</td>\n",
              "      <td>3.61</td>\n",
              "      <td>5231000</td>\n",
              "      <td>107619</td>\n",
              "      <td>501 pages</td>\n",
              "      <td>Young Adult/19,982|Fantasy/19,312|Romance/12,0...</td>\n",
              "      <td>9.780316e+12</td>\n",
              "      <td>['The Hunger Games (The Hunger Games, #1)|http...</td>\n",
              "    </tr>\n",
              "    <tr>\n",
              "      <th>5</th>\n",
              "      <td>https://www.goodreads.com/book/show/19063.The_...</td>\n",
              "      <td>The Book Thief</td>\n",
              "      <td>https://i.gr-assets.com/images/S/compressed.ph...</td>\n",
              "      <td>Markus Zusak</td>\n",
              "      <td>Librarian's note: An alternate cover edition c...</td>\n",
              "      <td>4.38</td>\n",
              "      <td>1954165</td>\n",
              "      <td>117307</td>\n",
              "      <td>552 pages</td>\n",
              "      <td>Historical-Historical Fiction/20,161|Fiction/1...</td>\n",
              "      <td>9.780376e+12</td>\n",
              "      <td>['All the Light We Cannot See|https://www.good...</td>\n",
              "    </tr>\n",
              "    <tr>\n",
              "      <th>6</th>\n",
              "      <td>https://www.goodreads.com/book/show/7613.Anima...</td>\n",
              "      <td>Animal Farm</td>\n",
              "      <td>https://i.gr-assets.com/images/S/compressed.ph...</td>\n",
              "      <td>George Orwell,Boris Grabnar,Celâl Üster,Celâl ...</td>\n",
              "      <td>George Orwell's timeless and timely allegorica...</td>\n",
              "      <td>3.96</td>\n",
              "      <td>2926888</td>\n",
              "      <td>61574</td>\n",
              "      <td>122 pages</td>\n",
              "      <td>Classics/34,158|Fiction/19,552|Science Fiction...</td>\n",
              "      <td>9.780452e+12</td>\n",
              "      <td>['The Great Gatsby|https://www.goodreads.com/b...</td>\n",
              "    </tr>\n",
              "    <tr>\n",
              "      <th>7</th>\n",
              "      <td>https://www.goodreads.com/book/show/11127.The_...</td>\n",
              "      <td>The Chronicles of Narnia</td>\n",
              "      <td>https://i.gr-assets.com/images/S/compressed.ph...</td>\n",
              "      <td>C.S. Lewis,Pauline Baynes</td>\n",
              "      <td>Librarian note: An alternate cover for this ed...</td>\n",
              "      <td>4.26</td>\n",
              "      <td>548649</td>\n",
              "      <td>10743</td>\n",
              "      <td>767 pages</td>\n",
              "      <td>Fantasy/11,823|Classics/4,396|Fiction/3,903|Yo...</td>\n",
              "      <td>9.780066e+12</td>\n",
              "      <td>['J.R.R. Tolkien 4-Book Boxed Set: The Hobbit ...</td>\n",
              "    </tr>\n",
              "    <tr>\n",
              "      <th>8</th>\n",
              "      <td>https://www.goodreads.com/book/show/30.J_R_R_T...</td>\n",
              "      <td>J.R.R. Tolkien 4-Book Boxed Set: The Hobbit an...</td>\n",
              "      <td>https://i.gr-assets.com/images/S/compressed.ph...</td>\n",
              "      <td>J.R.R. Tolkien</td>\n",
              "      <td>This four-volume, boxed set contains J.R.R. To...</td>\n",
              "      <td>4.60</td>\n",
              "      <td>115027</td>\n",
              "      <td>1863</td>\n",
              "      <td>1728 pages</td>\n",
              "      <td>Fantasy/2,291|Fiction/670|Classics/587|Adventu...</td>\n",
              "      <td>9.780346e+12</td>\n",
              "      <td>['The Chronicles of Narnia (Chronicles of Narn...</td>\n",
              "    </tr>\n",
              "    <tr>\n",
              "      <th>9</th>\n",
              "      <td>https://www.goodreads.com/book/show/18405.Gone...</td>\n",
              "      <td>Gone with the Wind</td>\n",
              "      <td>https://i.gr-assets.com/images/S/compressed.ph...</td>\n",
              "      <td>Margaret Mitchell</td>\n",
              "      <td>Scarlett O'Hara, the beautiful, spoiled daught...</td>\n",
              "      <td>4.30</td>\n",
              "      <td>1106466</td>\n",
              "      <td>20591</td>\n",
              "      <td>1037 pages</td>\n",
              "      <td>Classics/13,899|Historical-Historical Fiction/...</td>\n",
              "      <td>9.780447e+12</td>\n",
              "      <td>['Scarlett|https://www.goodreads.com/book/show...</td>\n",
              "    </tr>\n",
              "  </tbody>\n",
              "</table>\n",
              "</div>\n",
              "      <button class=\"colab-df-convert\" onclick=\"convertToInteractive('df-a883333c-a1a4-4b2b-a8c0-a702046f52ba')\"\n",
              "              title=\"Convert this dataframe to an interactive table.\"\n",
              "              style=\"display:none;\">\n",
              "        \n",
              "  <svg xmlns=\"http://www.w3.org/2000/svg\" height=\"24px\"viewBox=\"0 0 24 24\"\n",
              "       width=\"24px\">\n",
              "    <path d=\"M0 0h24v24H0V0z\" fill=\"none\"/>\n",
              "    <path d=\"M18.56 5.44l.94 2.06.94-2.06 2.06-.94-2.06-.94-.94-2.06-.94 2.06-2.06.94zm-11 1L8.5 8.5l.94-2.06 2.06-.94-2.06-.94L8.5 2.5l-.94 2.06-2.06.94zm10 10l.94 2.06.94-2.06 2.06-.94-2.06-.94-.94-2.06-.94 2.06-2.06.94z\"/><path d=\"M17.41 7.96l-1.37-1.37c-.4-.4-.92-.59-1.43-.59-.52 0-1.04.2-1.43.59L10.3 9.45l-7.72 7.72c-.78.78-.78 2.05 0 2.83L4 21.41c.39.39.9.59 1.41.59.51 0 1.02-.2 1.41-.59l7.78-7.78 2.81-2.81c.8-.78.8-2.07 0-2.86zM5.41 20L4 18.59l7.72-7.72 1.47 1.35L5.41 20z\"/>\n",
              "  </svg>\n",
              "      </button>\n",
              "      \n",
              "  <style>\n",
              "    .colab-df-container {\n",
              "      display:flex;\n",
              "      flex-wrap:wrap;\n",
              "      gap: 12px;\n",
              "    }\n",
              "\n",
              "    .colab-df-convert {\n",
              "      background-color: #E8F0FE;\n",
              "      border: none;\n",
              "      border-radius: 50%;\n",
              "      cursor: pointer;\n",
              "      display: none;\n",
              "      fill: #1967D2;\n",
              "      height: 32px;\n",
              "      padding: 0 0 0 0;\n",
              "      width: 32px;\n",
              "    }\n",
              "\n",
              "    .colab-df-convert:hover {\n",
              "      background-color: #E2EBFA;\n",
              "      box-shadow: 0px 1px 2px rgba(60, 64, 67, 0.3), 0px 1px 3px 1px rgba(60, 64, 67, 0.15);\n",
              "      fill: #174EA6;\n",
              "    }\n",
              "\n",
              "    [theme=dark] .colab-df-convert {\n",
              "      background-color: #3B4455;\n",
              "      fill: #D2E3FC;\n",
              "    }\n",
              "\n",
              "    [theme=dark] .colab-df-convert:hover {\n",
              "      background-color: #434B5C;\n",
              "      box-shadow: 0px 1px 3px 1px rgba(0, 0, 0, 0.15);\n",
              "      filter: drop-shadow(0px 1px 2px rgba(0, 0, 0, 0.3));\n",
              "      fill: #FFFFFF;\n",
              "    }\n",
              "  </style>\n",
              "\n",
              "      <script>\n",
              "        const buttonEl =\n",
              "          document.querySelector('#df-a883333c-a1a4-4b2b-a8c0-a702046f52ba button.colab-df-convert');\n",
              "        buttonEl.style.display =\n",
              "          google.colab.kernel.accessAllowed ? 'block' : 'none';\n",
              "\n",
              "        async function convertToInteractive(key) {\n",
              "          const element = document.querySelector('#df-a883333c-a1a4-4b2b-a8c0-a702046f52ba');\n",
              "          const dataTable =\n",
              "            await google.colab.kernel.invokeFunction('convertToInteractive',\n",
              "                                                     [key], {});\n",
              "          if (!dataTable) return;\n",
              "\n",
              "          const docLinkHtml = 'Like what you see? Visit the ' +\n",
              "            '<a target=\"_blank\" href=https://colab.research.google.com/notebooks/data_table.ipynb>data table notebook</a>'\n",
              "            + ' to learn more about interactive tables.';\n",
              "          element.innerHTML = '';\n",
              "          dataTable['output_type'] = 'display_data';\n",
              "          await google.colab.output.renderOutput(dataTable, element);\n",
              "          const docLink = document.createElement('div');\n",
              "          docLink.innerHTML = docLinkHtml;\n",
              "          element.appendChild(docLink);\n",
              "        }\n",
              "      </script>\n",
              "    </div>\n",
              "  </div>\n",
              "  "
            ]
          },
          "metadata": {},
          "execution_count": 14
        }
      ]
    },
    {
      "cell_type": "code",
      "source": [
        "data.isnull().sum().sort_values(ascending=False)"
      ],
      "metadata": {
        "colab": {
          "base_uri": "https://localhost:8080/"
        },
        "id": "vXxNFFqJX1Z1",
        "outputId": "17305233-471f-467a-913b-a6514de39b67"
      },
      "execution_count": null,
      "outputs": [
        {
          "output_type": "execute_result",
          "data": {
            "text/plain": [
              "bookISBN           1499\n",
              "recommendations     148\n",
              "bookGenres          100\n",
              "bookPages            95\n",
              "bookDesc             50\n",
              "bookImage            12\n",
              "url                   0\n",
              "bookTitle             0\n",
              "bookAuthors           0\n",
              "bookRating            0\n",
              "ratingCount           0\n",
              "reviewCount           0\n",
              "dtype: int64"
            ]
          },
          "metadata": {},
          "execution_count": 15
        }
      ]
    },
    {
      "cell_type": "code",
      "source": [
        "# Informasi data\n",
        "data.info()"
      ],
      "metadata": {
        "colab": {
          "base_uri": "https://localhost:8080/"
        },
        "id": "fdrXb59XYX0B",
        "outputId": "d50f6581-7e34-454a-9a50-a9548a0ecc9d"
      },
      "execution_count": null,
      "outputs": [
        {
          "output_type": "stream",
          "name": "stdout",
          "text": [
            "<class 'pandas.core.frame.DataFrame'>\n",
            "RangeIndex: 10000 entries, 0 to 9999\n",
            "Data columns (total 12 columns):\n",
            " #   Column           Non-Null Count  Dtype  \n",
            "---  ------           --------------  -----  \n",
            " 0   url              10000 non-null  object \n",
            " 1   bookTitle        10000 non-null  object \n",
            " 2   bookImage        9988 non-null   object \n",
            " 3   bookAuthors      10000 non-null  object \n",
            " 4   bookDesc         9950 non-null   object \n",
            " 5   bookRating       10000 non-null  float64\n",
            " 6   ratingCount      10000 non-null  int64  \n",
            " 7   reviewCount      10000 non-null  int64  \n",
            " 8   bookPages        9905 non-null   object \n",
            " 9   bookGenres       9900 non-null   object \n",
            " 10  bookISBN         8501 non-null   float64\n",
            " 11  recommendations  9852 non-null   object \n",
            "dtypes: float64(2), int64(2), object(8)\n",
            "memory usage: 937.6+ KB\n"
          ]
        }
      ]
    },
    {
      "cell_type": "code",
      "source": [
        "# Informasi data2\n",
        "print(f\"Data mengandung {data.shape[0]} baris dan {data.shape[1]} kolom\")\n",
        "\n",
        "num_feat = [feat for feat in data if data[feat].dtype!=object]\n",
        "cat_feat = [feat for feat in data if data[feat].dtype==object]\n",
        "\n",
        "print(f'Jumlah fitur pada data: {len(num_feat + cat_feat)}')\n",
        "print(f'Jumlah fitur numerik pada data: {len(num_feat)}')\n",
        "print(num_feat)\n",
        "print(f'Jumlah fitur kategori pada data: {len(cat_feat)}')\n",
        "print(cat_feat)"
      ],
      "metadata": {
        "colab": {
          "base_uri": "https://localhost:8080/"
        },
        "id": "m-qw0fqLZfdb",
        "outputId": "1ba04cb7-e361-4381-e65b-6d906d3ad822"
      },
      "execution_count": null,
      "outputs": [
        {
          "output_type": "stream",
          "name": "stdout",
          "text": [
            "Data mengandung 10000 baris dan 12 kolom\n",
            "Jumlah fitur pada data: 12\n",
            "Jumlah fitur numerik pada data: 4\n",
            "['bookRating', 'ratingCount', 'reviewCount', 'bookISBN']\n",
            "Jumlah fitur kategori pada data: 8\n",
            "['url', 'bookTitle', 'bookImage', 'bookAuthors', 'bookDesc', 'bookPages', 'bookGenres', 'recommendations']\n"
          ]
        }
      ]
    },
    {
      "cell_type": "code",
      "source": [
        "# Deskripsi data\n",
        "data.describe()"
      ],
      "metadata": {
        "colab": {
          "base_uri": "https://localhost:8080/",
          "height": 300
        },
        "id": "p47Pr_QiZoS3",
        "outputId": "6e42bf94-539d-4407-82b6-e8337a6e9a6d"
      },
      "execution_count": null,
      "outputs": [
        {
          "output_type": "execute_result",
          "data": {
            "text/plain": [
              "         bookRating   ratingCount    reviewCount      bookISBN\n",
              "count  10000.000000  1.000000e+04   10000.000000  8.501000e+03\n",
              "mean       4.053758  1.039182e+05    4953.632100  9.770250e+12\n",
              "std        0.254552  3.275863e+05   11594.836725  3.133383e+11\n",
              "min        2.050000  1.000000e+00       0.000000  9.780616e+09\n",
              "25%        3.890000  9.914000e+03     541.750000  9.780316e+12\n",
              "50%        4.060000  2.595150e+04    1447.500000  9.780553e+12\n",
              "75%        4.220000  7.097550e+04    3878.250000  9.781400e+12\n",
              "max        5.000000  7.550262e+06  176063.000000  9.789972e+12"
            ],
            "text/html": [
              "\n",
              "  <div id=\"df-c9533b60-6a01-4589-8bbc-b8b6067705c5\">\n",
              "    <div class=\"colab-df-container\">\n",
              "      <div>\n",
              "<style scoped>\n",
              "    .dataframe tbody tr th:only-of-type {\n",
              "        vertical-align: middle;\n",
              "    }\n",
              "\n",
              "    .dataframe tbody tr th {\n",
              "        vertical-align: top;\n",
              "    }\n",
              "\n",
              "    .dataframe thead th {\n",
              "        text-align: right;\n",
              "    }\n",
              "</style>\n",
              "<table border=\"1\" class=\"dataframe\">\n",
              "  <thead>\n",
              "    <tr style=\"text-align: right;\">\n",
              "      <th></th>\n",
              "      <th>bookRating</th>\n",
              "      <th>ratingCount</th>\n",
              "      <th>reviewCount</th>\n",
              "      <th>bookISBN</th>\n",
              "    </tr>\n",
              "  </thead>\n",
              "  <tbody>\n",
              "    <tr>\n",
              "      <th>count</th>\n",
              "      <td>10000.000000</td>\n",
              "      <td>1.000000e+04</td>\n",
              "      <td>10000.000000</td>\n",
              "      <td>8.501000e+03</td>\n",
              "    </tr>\n",
              "    <tr>\n",
              "      <th>mean</th>\n",
              "      <td>4.053758</td>\n",
              "      <td>1.039182e+05</td>\n",
              "      <td>4953.632100</td>\n",
              "      <td>9.770250e+12</td>\n",
              "    </tr>\n",
              "    <tr>\n",
              "      <th>std</th>\n",
              "      <td>0.254552</td>\n",
              "      <td>3.275863e+05</td>\n",
              "      <td>11594.836725</td>\n",
              "      <td>3.133383e+11</td>\n",
              "    </tr>\n",
              "    <tr>\n",
              "      <th>min</th>\n",
              "      <td>2.050000</td>\n",
              "      <td>1.000000e+00</td>\n",
              "      <td>0.000000</td>\n",
              "      <td>9.780616e+09</td>\n",
              "    </tr>\n",
              "    <tr>\n",
              "      <th>25%</th>\n",
              "      <td>3.890000</td>\n",
              "      <td>9.914000e+03</td>\n",
              "      <td>541.750000</td>\n",
              "      <td>9.780316e+12</td>\n",
              "    </tr>\n",
              "    <tr>\n",
              "      <th>50%</th>\n",
              "      <td>4.060000</td>\n",
              "      <td>2.595150e+04</td>\n",
              "      <td>1447.500000</td>\n",
              "      <td>9.780553e+12</td>\n",
              "    </tr>\n",
              "    <tr>\n",
              "      <th>75%</th>\n",
              "      <td>4.220000</td>\n",
              "      <td>7.097550e+04</td>\n",
              "      <td>3878.250000</td>\n",
              "      <td>9.781400e+12</td>\n",
              "    </tr>\n",
              "    <tr>\n",
              "      <th>max</th>\n",
              "      <td>5.000000</td>\n",
              "      <td>7.550262e+06</td>\n",
              "      <td>176063.000000</td>\n",
              "      <td>9.789972e+12</td>\n",
              "    </tr>\n",
              "  </tbody>\n",
              "</table>\n",
              "</div>\n",
              "      <button class=\"colab-df-convert\" onclick=\"convertToInteractive('df-c9533b60-6a01-4589-8bbc-b8b6067705c5')\"\n",
              "              title=\"Convert this dataframe to an interactive table.\"\n",
              "              style=\"display:none;\">\n",
              "        \n",
              "  <svg xmlns=\"http://www.w3.org/2000/svg\" height=\"24px\"viewBox=\"0 0 24 24\"\n",
              "       width=\"24px\">\n",
              "    <path d=\"M0 0h24v24H0V0z\" fill=\"none\"/>\n",
              "    <path d=\"M18.56 5.44l.94 2.06.94-2.06 2.06-.94-2.06-.94-.94-2.06-.94 2.06-2.06.94zm-11 1L8.5 8.5l.94-2.06 2.06-.94-2.06-.94L8.5 2.5l-.94 2.06-2.06.94zm10 10l.94 2.06.94-2.06 2.06-.94-2.06-.94-.94-2.06-.94 2.06-2.06.94z\"/><path d=\"M17.41 7.96l-1.37-1.37c-.4-.4-.92-.59-1.43-.59-.52 0-1.04.2-1.43.59L10.3 9.45l-7.72 7.72c-.78.78-.78 2.05 0 2.83L4 21.41c.39.39.9.59 1.41.59.51 0 1.02-.2 1.41-.59l7.78-7.78 2.81-2.81c.8-.78.8-2.07 0-2.86zM5.41 20L4 18.59l7.72-7.72 1.47 1.35L5.41 20z\"/>\n",
              "  </svg>\n",
              "      </button>\n",
              "      \n",
              "  <style>\n",
              "    .colab-df-container {\n",
              "      display:flex;\n",
              "      flex-wrap:wrap;\n",
              "      gap: 12px;\n",
              "    }\n",
              "\n",
              "    .colab-df-convert {\n",
              "      background-color: #E8F0FE;\n",
              "      border: none;\n",
              "      border-radius: 50%;\n",
              "      cursor: pointer;\n",
              "      display: none;\n",
              "      fill: #1967D2;\n",
              "      height: 32px;\n",
              "      padding: 0 0 0 0;\n",
              "      width: 32px;\n",
              "    }\n",
              "\n",
              "    .colab-df-convert:hover {\n",
              "      background-color: #E2EBFA;\n",
              "      box-shadow: 0px 1px 2px rgba(60, 64, 67, 0.3), 0px 1px 3px 1px rgba(60, 64, 67, 0.15);\n",
              "      fill: #174EA6;\n",
              "    }\n",
              "\n",
              "    [theme=dark] .colab-df-convert {\n",
              "      background-color: #3B4455;\n",
              "      fill: #D2E3FC;\n",
              "    }\n",
              "\n",
              "    [theme=dark] .colab-df-convert:hover {\n",
              "      background-color: #434B5C;\n",
              "      box-shadow: 0px 1px 3px 1px rgba(0, 0, 0, 0.15);\n",
              "      filter: drop-shadow(0px 1px 2px rgba(0, 0, 0, 0.3));\n",
              "      fill: #FFFFFF;\n",
              "    }\n",
              "  </style>\n",
              "\n",
              "      <script>\n",
              "        const buttonEl =\n",
              "          document.querySelector('#df-c9533b60-6a01-4589-8bbc-b8b6067705c5 button.colab-df-convert');\n",
              "        buttonEl.style.display =\n",
              "          google.colab.kernel.accessAllowed ? 'block' : 'none';\n",
              "\n",
              "        async function convertToInteractive(key) {\n",
              "          const element = document.querySelector('#df-c9533b60-6a01-4589-8bbc-b8b6067705c5');\n",
              "          const dataTable =\n",
              "            await google.colab.kernel.invokeFunction('convertToInteractive',\n",
              "                                                     [key], {});\n",
              "          if (!dataTable) return;\n",
              "\n",
              "          const docLinkHtml = 'Like what you see? Visit the ' +\n",
              "            '<a target=\"_blank\" href=https://colab.research.google.com/notebooks/data_table.ipynb>data table notebook</a>'\n",
              "            + ' to learn more about interactive tables.';\n",
              "          element.innerHTML = '';\n",
              "          dataTable['output_type'] = 'display_data';\n",
              "          await google.colab.output.renderOutput(dataTable, element);\n",
              "          const docLink = document.createElement('div');\n",
              "          docLink.innerHTML = docLinkHtml;\n",
              "          element.appendChild(docLink);\n",
              "        }\n",
              "      </script>\n",
              "    </div>\n",
              "  </div>\n",
              "  "
            ]
          },
          "metadata": {},
          "execution_count": 19
        }
      ]
    },
    {
      "cell_type": "markdown",
      "source": [
        "DATA  CLEANING"
      ],
      "metadata": {
        "id": "0gjMMrO_lt37"
      }
    },
    {
      "cell_type": "code",
      "source": [
        "data.drop_duplicates(subset = ['bookTitle'], keep = 'first', inplace = True, ignore_index = True) #Menghilangkan judul yang sama"
      ],
      "metadata": {
        "id": "8fsvjHdsZ1H9"
      },
      "execution_count": null,
      "outputs": []
    },
    {
      "cell_type": "code",
      "source": [
        "data.dropna(subset = ['bookTitle', 'bookAuthors', 'bookGenres', 'bookDesc','recommendations'], inplace = True) #Menghilangkan semua nilai NaN"
      ],
      "metadata": {
        "id": "IOMaKnygmQ6s"
      },
      "execution_count": null,
      "outputs": []
    },
    {
      "cell_type": "code",
      "source": [
        "data.reset_index(inplace = True)"
      ],
      "metadata": {
        "id": "yUqhGySMmoL5"
      },
      "execution_count": null,
      "outputs": []
    },
    {
      "cell_type": "code",
      "source": [
        "# Informasi data setelah di cleaning\n",
        "data.info()\n"
      ],
      "metadata": {
        "colab": {
          "base_uri": "https://localhost:8080/"
        },
        "outputId": "fbae0631-d2c9-4f24-ce98-0088c2807e5c",
        "id": "BEdZQ-GxnAml"
      },
      "execution_count": null,
      "outputs": [
        {
          "output_type": "stream",
          "name": "stdout",
          "text": [
            "<class 'pandas.core.frame.DataFrame'>\n",
            "RangeIndex: 9246 entries, 0 to 9245\n",
            "Data columns (total 13 columns):\n",
            " #   Column           Non-Null Count  Dtype  \n",
            "---  ------           --------------  -----  \n",
            " 0   index            9246 non-null   int64  \n",
            " 1   url              9246 non-null   object \n",
            " 2   bookTitle        9246 non-null   object \n",
            " 3   bookImage        9240 non-null   object \n",
            " 4   bookAuthors      9246 non-null   object \n",
            " 5   bookDesc         9246 non-null   object \n",
            " 6   bookRating       9246 non-null   float64\n",
            " 7   ratingCount      9246 non-null   int64  \n",
            " 8   reviewCount      9246 non-null   int64  \n",
            " 9   bookPages        9174 non-null   object \n",
            " 10  bookGenres       9246 non-null   object \n",
            " 11  bookISBN         7938 non-null   float64\n",
            " 12  recommendations  9246 non-null   object \n",
            "dtypes: float64(2), int64(3), object(8)\n",
            "memory usage: 939.2+ KB\n"
          ]
        }
      ]
    },
    {
      "cell_type": "code",
      "source": [
        "data.isnull().sum().sort_values(ascending=False)"
      ],
      "metadata": {
        "colab": {
          "base_uri": "https://localhost:8080/"
        },
        "id": "jF--6Ux8nbZx",
        "outputId": "6f5cd37d-9e9d-4a20-df2f-6b4a97619f4f"
      },
      "execution_count": null,
      "outputs": [
        {
          "output_type": "execute_result",
          "data": {
            "text/plain": [
              "bookISBN           1308\n",
              "bookPages            72\n",
              "bookImage             6\n",
              "index                 0\n",
              "url                   0\n",
              "bookTitle             0\n",
              "bookAuthors           0\n",
              "bookDesc              0\n",
              "bookRating            0\n",
              "ratingCount           0\n",
              "reviewCount           0\n",
              "bookGenres            0\n",
              "recommendations       0\n",
              "dtype: int64"
            ]
          },
          "metadata": {},
          "execution_count": 28
        }
      ]
    },
    {
      "cell_type": "code",
      "source": [
        " del data['extra']\n",
        " "
      ],
      "metadata": {
        "id": "ATmIhHRGnlr7"
      },
      "execution_count": null,
      "outputs": []
    }
  ]
}